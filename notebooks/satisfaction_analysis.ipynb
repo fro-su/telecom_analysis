{
 "cells": [
  {
   "cell_type": "code",
   "execution_count": 3,
   "metadata": {},
   "outputs": [],
   "source": [
    "import sys\n",
    "import os\n",
    "\n",
    "project_path = 'c:/Users/Firew Ayele/Desktop/kifiya/telecom_analysis'\n",
    "sys.path.append(project_path)\n",
    "\n",
    "import pandas as pd\n",
    "from Database.db_connection import fetch_data_from_postgres\n",
    "from src.utils import missing_values_table, convert_bytes_to_megabytes"
   ]
  },
  {
   "cell_type": "markdown",
   "metadata": {},
   "source": [
    "fetch data from postgres"
   ]
  },
  {
   "cell_type": "code",
   "execution_count": 4,
   "metadata": {},
   "outputs": [
    {
     "name": "stdout",
     "output_type": "stream",
     "text": [
      "           Bearer Id            Start  Start ms              End  End ms  \\\n",
      "0       1.311448e+19   4/4/2019 12:01     770.0  4/25/2019 14:35   662.0   \n",
      "1       1.311448e+19   4/9/2019 13:04     235.0   4/25/2019 8:15   606.0   \n",
      "2       1.311448e+19   4/9/2019 17:42       1.0  4/25/2019 11:58   652.0   \n",
      "3       1.311448e+19   4/10/2019 0:31     486.0   4/25/2019 7:36   171.0   \n",
      "4       1.311448e+19  4/12/2019 20:10     565.0  4/25/2019 10:40   954.0   \n",
      "...              ...              ...       ...              ...     ...   \n",
      "149996  7.277826e+18   4/29/2019 7:28     451.0   4/30/2019 6:02   214.0   \n",
      "149997  7.349883e+18   4/29/2019 7:28     483.0  4/30/2019 10:41   187.0   \n",
      "149998  1.311448e+19   4/29/2019 7:28     283.0  4/30/2019 10:46   810.0   \n",
      "149999  1.311448e+19   4/29/2019 7:28     696.0  4/30/2019 10:40   327.0   \n",
      "150000           NaN             None       NaN             None     NaN   \n",
      "\n",
      "        Dur. (ms)          IMSI  MSISDN/Number          IMEI  \\\n",
      "0       1823652.0  2.082014e+14   3.366496e+10  3.552121e+13   \n",
      "1       1365104.0  2.082019e+14   3.368185e+10  3.579401e+13   \n",
      "2       1361762.0  2.082003e+14   3.376063e+10  3.528151e+13   \n",
      "3       1321509.0  2.082014e+14   3.375034e+10  3.535661e+13   \n",
      "4       1089009.0  2.082014e+14   3.369980e+10  3.540701e+13   \n",
      "...           ...           ...            ...           ...   \n",
      "149996    81230.0  2.082022e+14   3.365069e+10  3.548311e+13   \n",
      "149997    97970.0  2.082019e+14   3.366345e+10  3.566051e+13   \n",
      "149998    98249.0  2.082017e+14   3.362189e+10  3.572121e+13   \n",
      "149999    97910.0  2.082021e+14   3.361962e+10  8.618620e+13   \n",
      "150000        NaN           NaN            NaN           NaN   \n",
      "\n",
      "           Last Location Name  ...  Youtube DL (Bytes)  Youtube UL (Bytes)  \\\n",
      "0       9.16456699548519E+015  ...        1.585461e+07        2.501332e+06   \n",
      "1                     L77566A  ...        2.024740e+07        1.911173e+07   \n",
      "2                     D42335A  ...        1.972566e+07        1.469958e+07   \n",
      "3                     T21824A  ...        2.138812e+07        1.514664e+07   \n",
      "4                     D88865A  ...        1.525938e+07        1.896287e+07   \n",
      "...                       ...  ...                 ...                 ...   \n",
      "149996                D20434A  ...        1.619167e+07        1.176343e+07   \n",
      "149997                D10223C  ...        1.387723e+07        8.288284e+06   \n",
      "149998                T51102A  ...        2.266051e+07        1.855903e+06   \n",
      "149999                L88342B  ...        8.817106e+06        8.305402e+06   \n",
      "150000                   None  ...        1.163407e+07        1.100941e+07   \n",
      "\n",
      "        Netflix DL (Bytes)  Netflix UL (Bytes)  Gaming DL (Bytes)  \\\n",
      "0             8.198936e+06        9.656251e+06       2.780823e+08   \n",
      "1             1.833841e+07        1.722713e+07       6.087501e+08   \n",
      "2             1.758779e+07        6.163408e+06       2.295846e+08   \n",
      "3             1.399465e+07        1.097942e+06       7.995382e+08   \n",
      "4             1.712458e+07        4.152180e+05       5.277072e+08   \n",
      "...                    ...                 ...                ...   \n",
      "149996        1.788370e+07        1.967816e+07       5.266097e+08   \n",
      "149997        1.935015e+07        2.129315e+07       6.268931e+08   \n",
      "149998        9.963942e+06        5.065760e+06       5.535395e+08   \n",
      "149999        3.322253e+06        1.317259e+07       3.525370e+08   \n",
      "150000        1.162685e+07        1.100175e+07       4.220447e+08   \n",
      "\n",
      "        Gaming UL (Bytes)  Other DL (Bytes)  Other UL (Bytes)  \\\n",
      "0            1.434415e+07      1.717444e+08      8.814393e+06   \n",
      "1            1.170709e+06      5.269042e+08      1.505514e+07   \n",
      "2            3.956300e+05      4.106926e+08      4.215763e+06   \n",
      "3            1.084972e+07      7.490399e+08      1.279728e+07   \n",
      "4            3.529801e+06      5.507095e+08      1.391032e+07   \n",
      "...                   ...               ...               ...   \n",
      "149996       9.197207e+06      3.264510e+06      1.348742e+07   \n",
      "149997       4.735033e+06      7.121804e+08      2.457758e+06   \n",
      "149998       1.339432e+07      1.211009e+08      1.131473e+07   \n",
      "149999       2.529475e+06      8.147131e+08      1.406930e+06   \n",
      "150000       8.288398e+06      4.211005e+08      8.264799e+06   \n",
      "\n",
      "        Total UL (Bytes)  Total DL (Bytes)  \n",
      "0             36749741.0       308879636.0  \n",
      "1             53800391.0       653384965.0  \n",
      "2             27883638.0       279807335.0  \n",
      "3             43324218.0       846028530.0  \n",
      "4             38542814.0       569138589.0  \n",
      "...                  ...               ...  \n",
      "149996        57628851.0       574175259.0  \n",
      "149997        39135081.0       666648844.0  \n",
      "149998        34912224.0       592786405.0  \n",
      "149999        29626096.0       371895920.0  \n",
      "150000               NaN               NaN  \n",
      "\n",
      "[150001 rows x 55 columns]\n"
     ]
    }
   ],
   "source": [
    "df =fetch_data_from_postgres()\n",
    "print(df)"
   ]
  },
  {
   "cell_type": "code",
   "execution_count": 5,
   "metadata": {},
   "outputs": [
    {
     "name": "stdout",
     "output_type": "stream",
     "text": [
      "Your selected dataframe has 55 columns.\n",
      "There are 41 columns that have missing values.\n",
      "Missing Values in df:\n",
      "                                          Missing Values  % of Total Values  \\\n",
      "Nb of sec with 37500B < Vol UL                    130254               86.8   \n",
      "Nb of sec with 6250B < Vol UL < 37500B            111843               74.6   \n",
      "Nb of sec with 125000B < Vol DL                    97538               65.0   \n",
      "TCP UL Retrans. Vol (Bytes)                        96649               64.4   \n",
      "Nb of sec with 31250B < Vol DL < 125000B           93586               62.4   \n",
      "Nb of sec with 1250B < Vol UL < 6250B              92894               61.9   \n",
      "Nb of sec with 6250B < Vol DL < 31250B             88317               58.9   \n",
      "TCP DL Retrans. Vol (Bytes)                        88146               58.8   \n",
      "HTTP UL (Bytes)                                    81810               54.5   \n",
      "HTTP DL (Bytes)                                    81474               54.3   \n",
      "Avg RTT DL (ms)                                    27829               18.6   \n",
      "Avg RTT UL (ms)                                    27812               18.5   \n",
      "Last Location Name                                  1153                0.8   \n",
      "MSISDN/Number                                       1066                0.7   \n",
      "Bearer Id                                            991                0.7   \n",
      "Nb of sec with Vol UL < 1250B                        793                0.5   \n",
      "UL TP < 10 Kbps (%)                                  792                0.5   \n",
      "50 Kbps < UL TP < 300 Kbps (%)                       792                0.5   \n",
      "UL TP > 300 Kbps (%)                                 792                0.5   \n",
      "10 Kbps < UL TP < 50 Kbps (%)                        792                0.5   \n",
      "Nb of sec with Vol DL < 6250B                        755                0.5   \n",
      "DL TP > 1 Mbps (%)                                   754                0.5   \n",
      "50 Kbps < DL TP < 250 Kbps (%)                       754                0.5   \n",
      "250 Kbps < DL TP < 1 Mbps (%)                        754                0.5   \n",
      "DL TP < 50 Kbps (%)                                  754                0.5   \n",
      "Handset Manufacturer                                 572                0.4   \n",
      "Handset Type                                         572                0.4   \n",
      "IMEI                                                 572                0.4   \n",
      "IMSI                                                 570                0.4   \n",
      "Start                                                  1                0.0   \n",
      "Start ms                                               1                0.0   \n",
      "End                                                    1                0.0   \n",
      "End ms                                                 1                0.0   \n",
      "Dur. (ms)                                              1                0.0   \n",
      "Avg Bearer TP UL (kbps)                                1                0.0   \n",
      "Avg Bearer TP DL (kbps)                                1                0.0   \n",
      "Dur. (ms).1                                            1                0.0   \n",
      "Activity Duration UL (ms)                              1                0.0   \n",
      "Activity Duration DL (ms)                              1                0.0   \n",
      "Total UL (Bytes)                                       1                0.0   \n",
      "Total DL (Bytes)                                       1                0.0   \n",
      "\n",
      "                                            Dtype  \n",
      "Nb of sec with 37500B < Vol UL            float64  \n",
      "Nb of sec with 6250B < Vol UL < 37500B    float64  \n",
      "Nb of sec with 125000B < Vol DL           float64  \n",
      "TCP UL Retrans. Vol (Bytes)               float64  \n",
      "Nb of sec with 31250B < Vol DL < 125000B  float64  \n",
      "Nb of sec with 1250B < Vol UL < 6250B     float64  \n",
      "Nb of sec with 6250B < Vol DL < 31250B    float64  \n",
      "TCP DL Retrans. Vol (Bytes)               float64  \n",
      "HTTP UL (Bytes)                           float64  \n",
      "HTTP DL (Bytes)                           float64  \n",
      "Avg RTT DL (ms)                           float64  \n",
      "Avg RTT UL (ms)                           float64  \n",
      "Last Location Name                         object  \n",
      "MSISDN/Number                             float64  \n",
      "Bearer Id                                 float64  \n",
      "Nb of sec with Vol UL < 1250B             float64  \n",
      "UL TP < 10 Kbps (%)                       float64  \n",
      "50 Kbps < UL TP < 300 Kbps (%)            float64  \n",
      "UL TP > 300 Kbps (%)                      float64  \n",
      "10 Kbps < UL TP < 50 Kbps (%)             float64  \n",
      "Nb of sec with Vol DL < 6250B             float64  \n",
      "DL TP > 1 Mbps (%)                        float64  \n",
      "50 Kbps < DL TP < 250 Kbps (%)            float64  \n",
      "250 Kbps < DL TP < 1 Mbps (%)             float64  \n",
      "DL TP < 50 Kbps (%)                       float64  \n",
      "Handset Manufacturer                       object  \n",
      "Handset Type                               object  \n",
      "IMEI                                      float64  \n",
      "IMSI                                      float64  \n",
      "Start                                      object  \n",
      "Start ms                                  float64  \n",
      "End                                        object  \n",
      "End ms                                    float64  \n",
      "Dur. (ms)                                 float64  \n",
      "Avg Bearer TP UL (kbps)                   float64  \n",
      "Avg Bearer TP DL (kbps)                   float64  \n",
      "Dur. (ms).1                               float64  \n",
      "Activity Duration UL (ms)                 float64  \n",
      "Activity Duration DL (ms)                 float64  \n",
      "Total UL (Bytes)                          float64  \n",
      "Total DL (Bytes)                          float64  \n"
     ]
    }
   ],
   "source": [
    "# Perform initial data analysis\n",
    "missing_values_df = missing_values_table(df)\n",
    "print(\"Missing Values in df:\")\n",
    "print(missing_values_df)"
   ]
  },
  {
   "cell_type": "code",
   "execution_count": 6,
   "metadata": {},
   "outputs": [
    {
     "name": "stdout",
     "output_type": "stream",
     "text": [
      "      Bearer Id            Start  Start ms              End  End ms  \\\n",
      "0  1.311448e+19   4/4/2019 12:01     770.0  4/25/2019 14:35   662.0   \n",
      "1  1.311448e+19   4/9/2019 13:04     235.0   4/25/2019 8:15   606.0   \n",
      "2  1.311448e+19   4/9/2019 17:42       1.0  4/25/2019 11:58   652.0   \n",
      "3  1.311448e+19   4/10/2019 0:31     486.0   4/25/2019 7:36   171.0   \n",
      "4  1.311448e+19  4/12/2019 20:10     565.0  4/25/2019 10:40   954.0   \n",
      "\n",
      "   Dur. (ms)          IMSI  MSISDN/Number          IMEI  \\\n",
      "0  1823652.0  2.082014e+14   3.366496e+10  3.552121e+13   \n",
      "1  1365104.0  2.082019e+14   3.368185e+10  3.579401e+13   \n",
      "2  1361762.0  2.082003e+14   3.376063e+10  3.528151e+13   \n",
      "3  1321509.0  2.082014e+14   3.375034e+10  3.535661e+13   \n",
      "4  1089009.0  2.082014e+14   3.369980e+10  3.540701e+13   \n",
      "\n",
      "      Last Location Name  ...  Youtube UL (Bytes)  Netflix DL (Bytes)  \\\n",
      "0  9.16456699548519E+015  ...           2501332.0           8198936.0   \n",
      "1                L77566A  ...          19111729.0          18338413.0   \n",
      "2                D42335A  ...          14699576.0          17587794.0   \n",
      "3                T21824A  ...          15146643.0          13994646.0   \n",
      "4                D88865A  ...          18962873.0          17124581.0   \n",
      "\n",
      "   Netflix UL (Bytes)  Gaming DL (Bytes)  Gaming UL (Bytes)  Other DL (Bytes)  \\\n",
      "0           9656251.0        278082303.0         14344150.0       171744450.0   \n",
      "1          17227132.0        608750074.0          1170709.0       526904238.0   \n",
      "2           6163408.0        229584621.0           395630.0       410692588.0   \n",
      "3           1097942.0        799538153.0         10849722.0       749039933.0   \n",
      "4            415218.0        527707248.0          3529801.0       550709500.0   \n",
      "\n",
      "   Other UL (Bytes)  Total UL (Bytes)  Total DL (Bytes)  HTTP DL (MB)  \n",
      "0         8814393.0        36749741.0       308879636.0           NaN  \n",
      "1        15055145.0        53800391.0       653384965.0           NaN  \n",
      "2         4215763.0        27883638.0       279807335.0           NaN  \n",
      "3        12797283.0        43324218.0       846028530.0           NaN  \n",
      "4        13910322.0        38542814.0       569138589.0           NaN  \n",
      "\n",
      "[5 rows x 56 columns]\n"
     ]
    }
   ],
   "source": [
    "df['HTTP DL (MB)'] = convert_bytes_to_megabytes(df, 'HTTP DL (Bytes)')\n",
    "\n",
    "print(df.head())"
   ]
  },
  {
   "cell_type": "code",
   "execution_count": 7,
   "metadata": {},
   "outputs": [
    {
     "name": "stdout",
     "output_type": "stream",
     "text": [
      "               session_frequency  total_session_duration      total_DL  \\\n",
      "MSISDN/Number                                                            \n",
      "3.362632e+10                  18               8791927.0  7.301517e+09   \n",
      "3.361489e+10                  17               9966898.0  8.156743e+09   \n",
      "3.362578e+10                  17              18553754.0  7.770043e+09   \n",
      "3.365973e+10                  16               4035428.0  7.081602e+09   \n",
      "3.367588e+10                  15               4865947.0  7.309542e+09   \n",
      "3.376054e+10                  15               9279434.0  7.811295e+09   \n",
      "3.366716e+10                  13               8744914.0  5.052068e+09   \n",
      "3.360313e+10                  12               6287761.0  4.540607e+09   \n",
      "3.360452e+10                  12               5207990.0  5.096079e+09   \n",
      "3.362708e+10                  12               4703516.0  5.309479e+09   \n",
      "\n",
      "                  total_UL  total_traffic  \n",
      "MSISDN/Number                              \n",
      "3.362632e+10   669650721.0   7.971167e+09  \n",
      "3.361489e+10   689483001.0   8.846226e+09  \n",
      "3.362578e+10   729577380.0   8.499621e+09  \n",
      "3.365973e+10   624260321.0   7.705863e+09  \n",
      "3.367588e+10   581568792.0   7.891111e+09  \n",
      "3.376054e+10   703478581.0   8.514774e+09  \n",
      "3.366716e+10   566326364.0   5.618394e+09  \n",
      "3.360313e+10   435587631.0   4.976195e+09  \n",
      "3.360452e+10   391775856.0   5.487855e+09  \n",
      "3.362708e+10   445251947.0   5.754731e+09  \n",
      "               session_frequency  total_session_duration      total_DL  \\\n",
      "MSISDN/Number                                                            \n",
      "3.362578e+10                  17              18553754.0  7.770043e+09   \n",
      "3.361489e+10                  17               9966898.0  8.156743e+09   \n",
      "3.376054e+10                  15               9279434.0  7.811295e+09   \n",
      "3.362632e+10                  18               8791927.0  7.301517e+09   \n",
      "3.366716e+10                  13               8744914.0  5.052068e+09   \n",
      "3.366284e+10                   9               6614270.0  3.593674e+09   \n",
      "3.366469e+10                   9               6288730.0  5.279827e+09   \n",
      "3.360313e+10                  12               6287761.0  4.540607e+09   \n",
      "3.366746e+10                   6               5649882.0  2.334299e+09   \n",
      "3.376041e+10                  12               5321667.0  6.610852e+09   \n",
      "\n",
      "                  total_UL  total_traffic  \n",
      "MSISDN/Number                              \n",
      "3.362578e+10   729577380.0   8.499621e+09  \n",
      "3.361489e+10   689483001.0   8.846226e+09  \n",
      "3.376054e+10   703478581.0   8.514774e+09  \n",
      "3.362632e+10   669650721.0   7.971167e+09  \n",
      "3.366716e+10   566326364.0   5.618394e+09  \n",
      "3.366284e+10   406424372.0   4.000098e+09  \n",
      "3.366469e+10   402180804.0   5.682007e+09  \n",
      "3.360313e+10   435587631.0   4.976195e+09  \n",
      "3.366746e+10   266222647.0   2.600522e+09  \n",
      "3.376041e+10   521518890.0   7.132371e+09  \n",
      "               session_frequency  total_session_duration      total_DL  \\\n",
      "MSISDN/Number                                                            \n",
      "3.361489e+10                  17               9966898.0  8.156743e+09   \n",
      "3.376054e+10                  15               9279434.0  7.811295e+09   \n",
      "3.362578e+10                  17              18553754.0  7.770043e+09   \n",
      "3.362632e+10                  18               8791927.0  7.301517e+09   \n",
      "3.367588e+10                  15               4865947.0  7.309542e+09   \n",
      "3.365973e+10                  16               4035428.0  7.081602e+09   \n",
      "3.366646e+10                  11               4536757.0  6.903440e+09   \n",
      "3.376041e+10                  12               5321667.0  6.610852e+09   \n",
      "3.366471e+10                  11               2927785.0  6.400774e+09   \n",
      "3.369879e+10                  11               5169128.0  6.010556e+09   \n",
      "\n",
      "                  total_UL  total_traffic  \n",
      "MSISDN/Number                              \n",
      "3.361489e+10   689483001.0   8.846226e+09  \n",
      "3.376054e+10   703478581.0   8.514774e+09  \n",
      "3.362578e+10   729577380.0   8.499621e+09  \n",
      "3.362632e+10   669650721.0   7.971167e+09  \n",
      "3.367588e+10   581568792.0   7.891111e+09  \n",
      "3.365973e+10   624260321.0   7.705863e+09  \n",
      "3.366646e+10   405060976.0   7.308501e+09  \n",
      "3.376041e+10   521518890.0   7.132371e+09  \n",
      "3.366471e+10   471244453.0   6.872018e+09  \n",
      "3.369879e+10   530343105.0   6.540899e+09  \n"
     ]
    }
   ],
   "source": [
    "from sklearn.preprocessing import MinMaxScaler\n",
    "from sklearn.cluster import KMeans\n",
    "import matplotlib.pyplot as plt\n",
    "import seaborn as sns\n",
    "\n",
    "# Step 1: Aggregate metrics per customer (MSISDN)\n",
    "customer_engagement = df.groupby('MSISDN/Number').agg(\n",
    "    session_frequency=('Bearer Id', 'count'),\n",
    "    total_session_duration=('Dur. (ms)', 'sum'),\n",
    "    total_DL=('Total DL (Bytes)', 'sum'),\n",
    "    total_UL=('Total UL (Bytes)', 'sum')\n",
    ")\n",
    "customer_engagement['total_traffic'] = customer_engagement['total_DL'] + customer_engagement['total_UL']\n",
    "\n",
    "# Top 10 customers per engagement metric\n",
    "top_10_frequency = customer_engagement.nlargest(10, 'session_frequency')\n",
    "top_10_duration = customer_engagement.nlargest(10, 'total_session_duration')\n",
    "top_10_traffic = customer_engagement.nlargest(10, 'total_traffic')\n",
    "\n",
    "# Top 10 Customers by Session Frequency\n",
    "print(top_10_frequency)\n",
    "# Top 10 Customers by Session Duration\n",
    "print(top_10_duration)\n",
    "# Top 10 Customers by Session Total Traffic\n",
    "print(top_10_traffic)"
   ]
  },
  {
   "cell_type": "code",
   "execution_count": 8,
   "metadata": {},
   "outputs": [
    {
     "name": "stdout",
     "output_type": "stream",
     "text": [
      "[[0.05555556 0.00590825 0.09593143]\n",
      " [0.05555556 0.00938651 0.01402598]\n",
      " [0.05555556 0.0068922  0.06385101]\n",
      " ...\n",
      " [0.05555556 0.04692194 0.02256615]\n",
      " [0.05555556 0.01325784 0.06388747]\n",
      " [0.05555556 0.04651534 0.0120169 ]]\n"
     ]
    }
   ],
   "source": [
    "\n",
    "scaler = MinMaxScaler()\n",
    "normalized_data = scaler.fit_transform(customer_engagement[['session_frequency', 'total_session_duration', 'total_traffic']])\n",
    "print(normalized_data)"
   ]
  },
  {
   "cell_type": "code",
   "execution_count": 9,
   "metadata": {},
   "outputs": [
    {
     "name": "stdout",
     "output_type": "stream",
     "text": [
      "               session_frequency  total_session_duration  total_traffic\n",
      "MSISDN/Number                                                          \n",
      "3.360100e+10                   1                116720.0   8.786906e+08\n",
      "3.360100e+10                   1                181230.0   1.568596e+08\n",
      "3.360100e+10                   1                134969.0   5.959665e+08\n",
      "3.360101e+10                   1                 49878.0   4.223207e+08\n",
      "3.360101e+10                   2                 37104.0   1.457411e+09\n",
      "...                          ...                     ...            ...\n",
      "3.379000e+10                   1                  8810.0   7.146416e+08\n",
      "3.379000e+10                   1                140988.0   4.803073e+08\n",
      "3.197021e+12                   1                877385.0   2.321240e+08\n",
      "3.370000e+14                   1                253030.0   5.962878e+08\n",
      "8.823971e+14                   1                869844.0   1.391536e+08\n",
      "\n",
      "[106856 rows x 3 columns]\n"
     ]
    }
   ],
   "source": [
    "engagement_data = customer_engagement[['session_frequency', 'total_session_duration', 'total_traffic']]\n",
    "print(engagement_data)\n",
    "\n"
   ]
  },
  {
   "cell_type": "code",
   "execution_count": 10,
   "metadata": {},
   "outputs": [
    {
     "name": "stdout",
     "output_type": "stream",
     "text": [
      "   MSISDN/Number  Average TCP Retransmission  Average RTT  \\\n",
      "0   3.360100e+10                         0.0         46.0   \n",
      "1   3.360100e+10                         0.0         31.0   \n",
      "2   3.360100e+10                         0.0          0.0   \n",
      "3   3.360101e+10                      1066.0         84.0   \n",
      "4   3.360101e+10                   9370832.0         59.5   \n",
      "\n",
      "                     Handset Type  Average Throughput  \n",
      "0  Huawei P20 Lite Huawei Nova 3E                76.0  \n",
      "1          Apple iPhone 7 (A1778)                99.0  \n",
      "2                       undefined                97.0  \n",
      "3         Apple iPhone 5S (A1457)               248.0  \n",
      "4         Apple iPhone Se (A1723)             28422.0  \n"
     ]
    }
   ],
   "source": [
    "# Average tcp retransmission\n",
    "average_tcp_retransmission = df.groupby('MSISDN/Number')[['TCP DL Retrans. Vol (Bytes)', 'TCP UL Retrans. Vol (Bytes)']].mean().sum(axis=1)\n",
    "# Average_rtt\n",
    "average_rtt = df.groupby('MSISDN/Number')[['Avg RTT DL (ms)', 'Avg RTT UL (ms)']].mean().sum(axis=1)\n",
    "\n",
    "# Most frequent handset type\n",
    "most_frequent_handset_type = df.groupby('MSISDN/Number')['Handset Type'].agg(lambda x: x.value_counts().index[0])\n",
    "\n",
    "# Average throughput\n",
    "average_throughput = df.groupby('MSISDN/Number')[['Avg Bearer TP DL (kbps)', 'Avg Bearer TP UL (kbps)']].mean().sum(axis=1)\n",
    "\n",
    "# Aggregate all information into a DataFrame\n",
    "customer_engagement_metrics = pd.DataFrame({\n",
    "    'MSISDN/Number': average_tcp_retransmission.index,\n",
    "    'Average TCP Retransmission': average_tcp_retransmission.values,\n",
    "    'Average RTT': average_rtt.values,\n",
    "    'Handset Type': most_frequent_handset_type.values,\n",
    "    'Average Throughput': average_throughput.values\n",
    "})\n",
    "\n",
    "# Display the aggregated information\n",
    "print(customer_engagement_metrics.head())"
   ]
  },
  {
   "cell_type": "code",
   "execution_count": 11,
   "metadata": {},
   "outputs": [
    {
     "name": "stdout",
     "output_type": "stream",
     "text": [
      "Index(['session_frequency', 'total_session_duration', 'total_traffic'], dtype='object')\n"
     ]
    }
   ],
   "source": [
    "print(engagement_data.columns)"
   ]
  },
  {
   "cell_type": "code",
   "execution_count": 12,
   "metadata": {},
   "outputs": [],
   "source": [
    "# Calculate average TCP retransmission\n",
    "df['Average TCP Retransmission'] = (df['TCP DL Retrans. Vol (Bytes)'] + df['TCP UL Retrans. Vol (Bytes)']) / 2\n",
    "\n",
    "# Calculate average RTT\n",
    "df['Average RTT'] = (df['Avg RTT DL (ms)'] + df['Avg RTT UL (ms)']) / 2\n",
    "\n",
    "# Calculate average throughput\n",
    "df['Average Throughput'] = (df['Avg Bearer TP DL (kbps)'] + df['Avg Bearer TP UL (kbps)']) / 2\n"
   ]
  },
  {
   "cell_type": "code",
   "execution_count": 13,
   "metadata": {},
   "outputs": [],
   "source": [
    "\n",
    "import pandas as pd\n",
    "from sklearn.cluster import KMeans\n",
    "from scipy.spatial import distance\n",
    "from scipy.spatial.distance import euclidean\n",
    "from sklearn.preprocessing import StandardScaler\n",
    "\n",
    "\n",
    "# engagement_data = customer_engagement[['session_frequency', 'total_session_duration', 'total_traffic']]"
   ]
  },
  {
   "cell_type": "code",
   "execution_count": 14,
   "metadata": {},
   "outputs": [],
   "source": [
    "# Perform clustering analysis for engagement\n",
    "engagement_data = customer_engagement[['session_frequency', 'total_session_duration', 'total_traffic']]\n",
    "engagement_kmeans = KMeans(n_clusters=3)  # Assuming 3 clusters\n",
    "engagement_kmeans.fit(engagement_data)\n",
    "\n",
    "# Create a DataFrame for engagement labels\n",
    "engagement_labels_df = pd.DataFrame({'Engagement Cluster': engagement_kmeans.labels_})\n"
   ]
  },
  {
   "cell_type": "code",
   "execution_count": 15,
   "metadata": {},
   "outputs": [],
   "source": [
    "# Concatenate the labels DataFrame with the original DataFrame\n",
    "df = pd.concat([df, engagement_labels_df], axis=1)\n"
   ]
  },
  {
   "cell_type": "code",
   "execution_count": 16,
   "metadata": {},
   "outputs": [
    {
     "name": "stdout",
     "output_type": "stream",
     "text": [
      "           Bearer Id            Start  Start ms              End  End ms  \\\n",
      "0       1.311448e+19   4/4/2019 12:01     770.0  4/25/2019 14:35   662.0   \n",
      "1       1.311448e+19   4/9/2019 13:04     235.0   4/25/2019 8:15   606.0   \n",
      "2       1.311448e+19   4/9/2019 17:42       1.0  4/25/2019 11:58   652.0   \n",
      "3       1.311448e+19   4/10/2019 0:31     486.0   4/25/2019 7:36   171.0   \n",
      "4       1.311448e+19  4/12/2019 20:10     565.0  4/25/2019 10:40   954.0   \n",
      "...              ...              ...       ...              ...     ...   \n",
      "149996  7.277826e+18   4/29/2019 7:28     451.0   4/30/2019 6:02   214.0   \n",
      "149997  7.349883e+18   4/29/2019 7:28     483.0  4/30/2019 10:41   187.0   \n",
      "149998  1.311448e+19   4/29/2019 7:28     283.0  4/30/2019 10:46   810.0   \n",
      "149999  1.311448e+19   4/29/2019 7:28     696.0  4/30/2019 10:40   327.0   \n",
      "150000           NaN             None       NaN             None     NaN   \n",
      "\n",
      "        Dur. (ms)          IMSI  MSISDN/Number          IMEI  \\\n",
      "0       1823652.0  2.082014e+14   3.366496e+10  3.552121e+13   \n",
      "1       1365104.0  2.082019e+14   3.368185e+10  3.579401e+13   \n",
      "2       1361762.0  2.082003e+14   3.376063e+10  3.528151e+13   \n",
      "3       1321509.0  2.082014e+14   3.375034e+10  3.535661e+13   \n",
      "4       1089009.0  2.082014e+14   3.369980e+10  3.540701e+13   \n",
      "...           ...           ...            ...           ...   \n",
      "149996    81230.0  2.082022e+14   3.365069e+10  3.548311e+13   \n",
      "149997    97970.0  2.082019e+14   3.366345e+10  3.566051e+13   \n",
      "149998    98249.0  2.082017e+14   3.362189e+10  3.572121e+13   \n",
      "149999    97910.0  2.082021e+14   3.361962e+10  8.618620e+13   \n",
      "150000        NaN           NaN            NaN           NaN   \n",
      "\n",
      "           Last Location Name  ...  Gaming UL (Bytes)  Other DL (Bytes)  \\\n",
      "0       9.16456699548519E+015  ...       1.434415e+07      1.717444e+08   \n",
      "1                     L77566A  ...       1.170709e+06      5.269042e+08   \n",
      "2                     D42335A  ...       3.956300e+05      4.106926e+08   \n",
      "3                     T21824A  ...       1.084972e+07      7.490399e+08   \n",
      "4                     D88865A  ...       3.529801e+06      5.507095e+08   \n",
      "...                       ...  ...                ...               ...   \n",
      "149996                D20434A  ...       9.197207e+06      3.264510e+06   \n",
      "149997                D10223C  ...       4.735033e+06      7.121804e+08   \n",
      "149998                T51102A  ...       1.339432e+07      1.211009e+08   \n",
      "149999                L88342B  ...       2.529475e+06      8.147131e+08   \n",
      "150000                   None  ...       8.288398e+06      4.211005e+08   \n",
      "\n",
      "        Other UL (Bytes)  Total UL (Bytes)  Total DL (Bytes)  HTTP DL (MB)  \\\n",
      "0           8.814393e+06        36749741.0       308879636.0           NaN   \n",
      "1           1.505514e+07        53800391.0       653384965.0           NaN   \n",
      "2           4.215763e+06        27883638.0       279807335.0           NaN   \n",
      "3           1.279728e+07        43324218.0       846028530.0           NaN   \n",
      "4           1.391032e+07        38542814.0       569138589.0           NaN   \n",
      "...                  ...               ...               ...           ...   \n",
      "149996      1.348742e+07        57628851.0       574175259.0           NaN   \n",
      "149997      2.457758e+06        39135081.0       666648844.0           NaN   \n",
      "149998      1.131473e+07        34912224.0       592786405.0           NaN   \n",
      "149999      1.406930e+06        29626096.0       371895920.0           NaN   \n",
      "150000      8.264799e+06               NaN               NaN           NaN   \n",
      "\n",
      "        Average TCP Retransmission  Average RTT  Average Throughput  \\\n",
      "0                              NaN         23.5                33.5   \n",
      "1                              NaN         35.0                21.0   \n",
      "2                              NaN          NaN                 7.5   \n",
      "3                              NaN          NaN                44.0   \n",
      "4                              NaN          NaN                 7.5   \n",
      "...                            ...          ...                 ...   \n",
      "149996                         NaN         16.0                58.5   \n",
      "149997                         NaN         14.5                38.5   \n",
      "149998                         NaN         24.5                45.0   \n",
      "149999                         NaN         21.0                35.5   \n",
      "150000                         NaN          NaN                 NaN   \n",
      "\n",
      "        Engagement Cluster  \n",
      "0                      2.0  \n",
      "1                      0.0  \n",
      "2                      2.0  \n",
      "3                      0.0  \n",
      "4                      1.0  \n",
      "...                    ...  \n",
      "149996                 NaN  \n",
      "149997                 NaN  \n",
      "149998                 NaN  \n",
      "149999                 NaN  \n",
      "150000                 NaN  \n",
      "\n",
      "[150001 rows x 60 columns]\n"
     ]
    }
   ],
   "source": [
    "print(df)"
   ]
  },
  {
   "cell_type": "code",
   "execution_count": 17,
   "metadata": {},
   "outputs": [],
   "source": [
    "# Extract centroids\n",
    "less_engaged_centroid = engagement_kmeans.cluster_centers_[0]  # Centroid of less engaged cluster\n"
   ]
  },
  {
   "cell_type": "code",
   "execution_count": 60,
   "metadata": {},
   "outputs": [],
   "source": [
    "# Calculate average TCP retransmission\n",
    "df['Average TCP Retransmission'] = (df['TCP DL Retrans. Vol (Bytes)'] + df['TCP UL Retrans. Vol (Bytes)']) / 2\n",
    "\n",
    "# Calculate average RTT\n",
    "df['Average RTT'] = (df['Avg RTT DL (ms)'] + df['Avg RTT UL (ms)']) / 2\n",
    "\n",
    "# Calculate average throughput\n",
    "df['Average Throughput'] = (df['Avg Bearer TP DL (kbps)'] + df['Avg Bearer TP UL (kbps)']) / 2\n"
   ]
  },
  {
   "cell_type": "code",
   "execution_count": 71,
   "metadata": {},
   "outputs": [],
   "source": [
    "# Perform clustering analysis for experience\n",
    "experience_data = customer_engagement_metrics[['Average TCP Retransmission', 'Average RTT', 'Average Throughput']]\n",
    "experience_kmeans = KMeans(n_clusters=3)  # Assuming 3 clusters\n",
    "# Drop rows with missing values\n",
    "# experience_data.dropna(inplace=True)\n",
    "\n",
    "# Reset index of experience_data to ensure alignment with df\n",
    "# experience_data.reset_index(drop=True, inplace=True)\n",
    "\n",
    "# Fit KMeans clustering algorithm\n",
    "experience_kmeans.fit(experience_data)\n",
    "\n",
    "# Assign cluster labels to a new DataFrame\n",
    "experience_labels_df = pd.DataFrame({'Experience Cluster': experience_kmeans.labels_})\n",
    "\n",
    "# Concatenate the labels DataFrame with the original DataFrame\n",
    "df = pd.concat([df, experience_labels_df], axis=1)"
   ]
  },
  {
   "cell_type": "code",
   "execution_count": 72,
   "metadata": {},
   "outputs": [],
   "source": [
    "# Extract centroids\n",
    "worst_experience_centroid = experience_kmeans.cluster_centers_[0]  # Centroid of worst experience cluster\n"
   ]
  },
  {
   "cell_type": "code",
   "execution_count": 73,
   "metadata": {},
   "outputs": [
    {
     "name": "stdout",
     "output_type": "stream",
     "text": [
      "[3.31753952e+06 1.12250629e+02 1.29872096e+04]\n"
     ]
    }
   ],
   "source": [
    "print(worst_experience_centroid)"
   ]
  },
  {
   "cell_type": "code",
   "execution_count": null,
   "metadata": {},
   "outputs": [],
   "source": []
  },
  {
   "cell_type": "code",
   "execution_count": 74,
   "metadata": {},
   "outputs": [],
   "source": [
    "import numpy as np\n",
    "\n",
    "# Define function to calculate Euclidean distance\n",
    "def euclidean_distance(point1, point2):\n",
    "    return np.sqrt(np.sum((point1 - point2)**2))\n",
    "\n",
    "# Calculate engagement score for each user\n",
    "customer_engagement['Engagement Score'] = customer_engagement.apply(\n",
    "    lambda row: euclidean_distance(np.array([row['session_frequency'], row['total_session_duration'], row['total_traffic']]), less_engaged_centroid),\n",
    "    axis=1\n",
    ")\n",
    "\n",
    "df['Experience Score'] = df.apply(lambda row: distance.euclidean(row[['Average TCP Retransmission', 'Average RTT', 'Average Throughput']], worst_experience_centroid), axis=1)\n",
    "\n",
    "# Calculate experience score for each user\n",
    "customer_engagement['Experience Score'] = experience_data.apply(\n",
    "    lambda row: euclidean_distance(np.array([row['Average TCP Retransmission'], row['Average RTT'], row['Average Throughput']]), worst_experience_centroid),\n",
    "    axis=1\n",
    ")\n",
    "\n",
    "\n"
   ]
  },
  {
   "cell_type": "code",
   "execution_count": 75,
   "metadata": {},
   "outputs": [
    {
     "name": "stdout",
     "output_type": "stream",
     "text": [
      "               Engagement Score  Experience Score\n",
      "MSISDN/Number                                    \n",
      "3.360100e+10       5.458308e+08               NaN\n",
      "3.360100e+10       1.760002e+08               NaN\n",
      "3.360100e+10       2.631067e+08               NaN\n",
      "3.360101e+10       8.946090e+07               NaN\n",
      "3.360101e+10       1.124551e+09               NaN\n",
      "...                         ...               ...\n",
      "3.379000e+10       3.817818e+08               NaN\n",
      "3.379000e+10       1.474475e+08               NaN\n",
      "3.197021e+12       1.007388e+08               NaN\n",
      "3.370000e+14       2.634280e+08               NaN\n",
      "8.823971e+14       1.937077e+08               NaN\n",
      "\n",
      "[106856 rows x 2 columns]\n"
     ]
    }
   ],
   "source": [
    "print(customer_engagement[['Engagement Score','Experience Score']])"
   ]
  },
  {
   "cell_type": "code",
   "execution_count": 76,
   "metadata": {},
   "outputs": [],
   "source": [
    "# Compute Euclidean distances for Experience Score\n",
    "# df['Experience Score'] = df.apply(lambda row: distance.euclidean(row[['Average TCP Retransmission', 'Average RTT', 'Average Throughput']], worst_experience_centroid), axis=1)\n"
   ]
  },
  {
   "cell_type": "code",
   "execution_count": 77,
   "metadata": {},
   "outputs": [],
   "source": [
    "# Display user data with scores\n",
    "# print(df[['MSISDN/Number', 'Engagement Score', 'Experience Score']])"
   ]
  },
  {
   "cell_type": "code",
   "execution_count": 78,
   "metadata": {},
   "outputs": [
    {
     "name": "stdout",
     "output_type": "stream",
     "text": [
      "               session_frequency  total_session_duration      total_DL  \\\n",
      "MSISDN/Number                                                            \n",
      "3.360100e+10                   1                116720.0  8.426375e+08   \n",
      "3.360100e+10                   1                181230.0  1.207552e+08   \n",
      "3.360100e+10                   1                134969.0  5.566597e+08   \n",
      "3.360101e+10                   1                 49878.0  4.019932e+08   \n",
      "3.360101e+10                   2                 37104.0  1.363130e+09   \n",
      "...                          ...                     ...           ...   \n",
      "3.379000e+10                   1                  8810.0  6.879252e+08   \n",
      "3.379000e+10                   1                140988.0  4.445751e+08   \n",
      "3.197021e+12                   1                877385.0  1.948281e+08   \n",
      "3.370000e+14                   1                253030.0  5.396350e+08   \n",
      "8.823971e+14                   1                869844.0  7.869760e+07   \n",
      "\n",
      "                 total_UL  total_traffic  Engagement Score  Experience Score  \n",
      "MSISDN/Number                                                                 \n",
      "3.360100e+10   36053108.0   8.786906e+08      5.458308e+08               NaN  \n",
      "3.360100e+10   36104459.0   1.568596e+08      1.760002e+08               NaN  \n",
      "3.360100e+10   39306820.0   5.959665e+08      2.631067e+08               NaN  \n",
      "3.360101e+10   20327526.0   4.223207e+08      8.946090e+07               NaN  \n",
      "3.360101e+10   94280527.0   1.457411e+09      1.124551e+09               NaN  \n",
      "...                   ...            ...               ...               ...  \n",
      "3.379000e+10   26716429.0   7.146416e+08      3.817818e+08               NaN  \n",
      "3.379000e+10   35732243.0   4.803073e+08      1.474475e+08               NaN  \n",
      "3.197021e+12   37295915.0   2.321240e+08      1.007388e+08               NaN  \n",
      "3.370000e+14   56652839.0   5.962878e+08      2.634280e+08               NaN  \n",
      "8.823971e+14   60456049.0   1.391536e+08      1.937077e+08               NaN  \n",
      "\n",
      "[106856 rows x 7 columns]\n"
     ]
    }
   ],
   "source": [
    "print(customer_engagement)"
   ]
  },
  {
   "cell_type": "code",
   "execution_count": 79,
   "metadata": {},
   "outputs": [],
   "source": [
    "# engagement_data = customer_engagement[['session_frequency', 'total_session_duration', 'total_traffic']]  # engagement features\n",
    "\n",
    "# experience_data = df[['Average TCP Retransmission', 'Average RTT', 'Average Throughput']]  # experience features\n"
   ]
  },
  {
   "cell_type": "code",
   "execution_count": 80,
   "metadata": {},
   "outputs": [],
   "source": [
    "# # KMeans models from previous tasks (Task 2 for engagement, Task 3 for experience)\n",
    "# from sklearn.impute import SimpleImputer\n",
    "\n",
    "# imputer = SimpleImputer(strategy='mean')\n",
    "\n",
    "# # Impute the missing values in engagement and experience data\n",
    "# engagement_data_imputed = imputer.fit_transform(engagement_data)\n",
    "# experience_data_imputed = imputer.fit_transform(experience_data)\n",
    "\n",
    "# scaler = StandardScaler()\n",
    "# engagement_data_scaled = scaler.fit_transform(engagement_data_imputed)\n",
    "\n",
    "# experience_data_scaled = scaler.fit_transform(experience_data_imputed)\n",
    "\n",
    "# # perform a k-means clustering (where k = 3)\n",
    "# engagement_kmeans = KMeans(n_clusters=3, random_state=42)\n",
    "# customer_engagement['Cluster'] = engagement_kmeans.fit_predict(engagement_data_scaled)\n",
    "\n",
    "\n",
    "\n",
    "# experience_kmeans = KMeans(n_clusters=3, random_state=42)\n",
    "# customer_engagement_metrics['Cluster'] = experience_kmeans.fit_predict(experience_data_scaled)\n",
    "\n",
    "# # engagement_kmeans = KMeans(n_clusters=3, random_state=42).fit(engagement_data)\n",
    "\n",
    "# # experience_kmeans = KMeans(n_clusters=3, random_state=42).fit(experience_data)\n"
   ]
  }
 ],
 "metadata": {
  "kernelspec": {
   "display_name": "venv_telecom",
   "language": "python",
   "name": "python3"
  },
  "language_info": {
   "codemirror_mode": {
    "name": "ipython",
    "version": 3
   },
   "file_extension": ".py",
   "mimetype": "text/x-python",
   "name": "python",
   "nbconvert_exporter": "python",
   "pygments_lexer": "ipython3",
   "version": "3.10.6"
  }
 },
 "nbformat": 4,
 "nbformat_minor": 2
}
