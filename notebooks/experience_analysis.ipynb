{
 "cells": [
  {
   "cell_type": "code",
   "execution_count": 1,
   "metadata": {},
   "outputs": [],
   "source": [
    "import sys\n",
    "import os\n",
    "\n",
    "project_path = 'c:/Users/Firew Ayele/Desktop/kifiya/telecom_analysis'\n",
    "sys.path.append(project_path)\n",
    "\n",
    "import pandas as pd\n",
    "from Database.db_connection import fetch_data_from_postgres\n",
    "from src.utils import missing_values_table, convert_bytes_to_megabytes"
   ]
  },
  {
   "cell_type": "markdown",
   "metadata": {},
   "source": [
    "fetch data from postgres"
   ]
  },
  {
   "cell_type": "code",
   "execution_count": 2,
   "metadata": {},
   "outputs": [
    {
     "name": "stdout",
     "output_type": "stream",
     "text": [
      "           Bearer Id            Start  Start ms              End  End ms  \\\n",
      "0       1.311448e+19   4/4/2019 12:01     770.0  4/25/2019 14:35   662.0   \n",
      "1       1.311448e+19   4/9/2019 13:04     235.0   4/25/2019 8:15   606.0   \n",
      "2       1.311448e+19   4/9/2019 17:42       1.0  4/25/2019 11:58   652.0   \n",
      "3       1.311448e+19   4/10/2019 0:31     486.0   4/25/2019 7:36   171.0   \n",
      "4       1.311448e+19  4/12/2019 20:10     565.0  4/25/2019 10:40   954.0   \n",
      "...              ...              ...       ...              ...     ...   \n",
      "149996  7.277826e+18   4/29/2019 7:28     451.0   4/30/2019 6:02   214.0   \n",
      "149997  7.349883e+18   4/29/2019 7:28     483.0  4/30/2019 10:41   187.0   \n",
      "149998  1.311448e+19   4/29/2019 7:28     283.0  4/30/2019 10:46   810.0   \n",
      "149999  1.311448e+19   4/29/2019 7:28     696.0  4/30/2019 10:40   327.0   \n",
      "150000           NaN             None       NaN             None     NaN   \n",
      "\n",
      "        Dur. (ms)          IMSI  MSISDN/Number          IMEI  \\\n",
      "0       1823652.0  2.082014e+14   3.366496e+10  3.552121e+13   \n",
      "1       1365104.0  2.082019e+14   3.368185e+10  3.579401e+13   \n",
      "2       1361762.0  2.082003e+14   3.376063e+10  3.528151e+13   \n",
      "3       1321509.0  2.082014e+14   3.375034e+10  3.535661e+13   \n",
      "4       1089009.0  2.082014e+14   3.369980e+10  3.540701e+13   \n",
      "...           ...           ...            ...           ...   \n",
      "149996    81230.0  2.082022e+14   3.365069e+10  3.548311e+13   \n",
      "149997    97970.0  2.082019e+14   3.366345e+10  3.566051e+13   \n",
      "149998    98249.0  2.082017e+14   3.362189e+10  3.572121e+13   \n",
      "149999    97910.0  2.082021e+14   3.361962e+10  8.618620e+13   \n",
      "150000        NaN           NaN            NaN           NaN   \n",
      "\n",
      "           Last Location Name  ...  Youtube DL (Bytes)  Youtube UL (Bytes)  \\\n",
      "0       9.16456699548519E+015  ...        1.585461e+07        2.501332e+06   \n",
      "1                     L77566A  ...        2.024740e+07        1.911173e+07   \n",
      "2                     D42335A  ...        1.972566e+07        1.469958e+07   \n",
      "3                     T21824A  ...        2.138812e+07        1.514664e+07   \n",
      "4                     D88865A  ...        1.525938e+07        1.896287e+07   \n",
      "...                       ...  ...                 ...                 ...   \n",
      "149996                D20434A  ...        1.619167e+07        1.176343e+07   \n",
      "149997                D10223C  ...        1.387723e+07        8.288284e+06   \n",
      "149998                T51102A  ...        2.266051e+07        1.855903e+06   \n",
      "149999                L88342B  ...        8.817106e+06        8.305402e+06   \n",
      "150000                   None  ...        1.163407e+07        1.100941e+07   \n",
      "\n",
      "        Netflix DL (Bytes)  Netflix UL (Bytes)  Gaming DL (Bytes)  \\\n",
      "0             8.198936e+06        9.656251e+06       2.780823e+08   \n",
      "1             1.833841e+07        1.722713e+07       6.087501e+08   \n",
      "2             1.758779e+07        6.163408e+06       2.295846e+08   \n",
      "3             1.399465e+07        1.097942e+06       7.995382e+08   \n",
      "4             1.712458e+07        4.152180e+05       5.277072e+08   \n",
      "...                    ...                 ...                ...   \n",
      "149996        1.788370e+07        1.967816e+07       5.266097e+08   \n",
      "149997        1.935015e+07        2.129315e+07       6.268931e+08   \n",
      "149998        9.963942e+06        5.065760e+06       5.535395e+08   \n",
      "149999        3.322253e+06        1.317259e+07       3.525370e+08   \n",
      "150000        1.162685e+07        1.100175e+07       4.220447e+08   \n",
      "\n",
      "        Gaming UL (Bytes)  Other DL (Bytes)  Other UL (Bytes)  \\\n",
      "0            1.434415e+07      1.717444e+08      8.814393e+06   \n",
      "1            1.170709e+06      5.269042e+08      1.505514e+07   \n",
      "2            3.956300e+05      4.106926e+08      4.215763e+06   \n",
      "3            1.084972e+07      7.490399e+08      1.279728e+07   \n",
      "4            3.529801e+06      5.507095e+08      1.391032e+07   \n",
      "...                   ...               ...               ...   \n",
      "149996       9.197207e+06      3.264510e+06      1.348742e+07   \n",
      "149997       4.735033e+06      7.121804e+08      2.457758e+06   \n",
      "149998       1.339432e+07      1.211009e+08      1.131473e+07   \n",
      "149999       2.529475e+06      8.147131e+08      1.406930e+06   \n",
      "150000       8.288398e+06      4.211005e+08      8.264799e+06   \n",
      "\n",
      "        Total UL (Bytes)  Total DL (Bytes)  \n",
      "0             36749741.0       308879636.0  \n",
      "1             53800391.0       653384965.0  \n",
      "2             27883638.0       279807335.0  \n",
      "3             43324218.0       846028530.0  \n",
      "4             38542814.0       569138589.0  \n",
      "...                  ...               ...  \n",
      "149996        57628851.0       574175259.0  \n",
      "149997        39135081.0       666648844.0  \n",
      "149998        34912224.0       592786405.0  \n",
      "149999        29626096.0       371895920.0  \n",
      "150000               NaN               NaN  \n",
      "\n",
      "[150001 rows x 55 columns]\n"
     ]
    }
   ],
   "source": [
    "df =fetch_data_from_postgres()\n",
    "print(df)"
   ]
  },
  {
   "cell_type": "code",
   "execution_count": 6,
   "metadata": {},
   "outputs": [
    {
     "name": "stdout",
     "output_type": "stream",
     "text": [
      "           Bearer Id            Start  Start ms              End  End ms  \\\n",
      "0       1.311448e+19   4/4/2019 12:01     770.0  4/25/2019 14:35   662.0   \n",
      "1       1.311448e+19   4/9/2019 13:04     235.0   4/25/2019 8:15   606.0   \n",
      "2       1.311448e+19   4/9/2019 17:42       1.0  4/25/2019 11:58   652.0   \n",
      "3       1.311448e+19   4/10/2019 0:31     486.0   4/25/2019 7:36   171.0   \n",
      "4       1.311448e+19  4/12/2019 20:10     565.0  4/25/2019 10:40   954.0   \n",
      "...              ...              ...       ...              ...     ...   \n",
      "149996  7.277826e+18   4/29/2019 7:28     451.0   4/30/2019 6:02   214.0   \n",
      "149997  7.349883e+18   4/29/2019 7:28     483.0  4/30/2019 10:41   187.0   \n",
      "149998  1.311448e+19   4/29/2019 7:28     283.0  4/30/2019 10:46   810.0   \n",
      "149999  1.311448e+19   4/29/2019 7:28     696.0  4/30/2019 10:40   327.0   \n",
      "150000           NaN             None       NaN             None     NaN   \n",
      "\n",
      "        Dur. (ms)          IMSI  MSISDN/Number          IMEI  \\\n",
      "0       1823652.0  2.082014e+14   3.366496e+10  3.552121e+13   \n",
      "1       1365104.0  2.082019e+14   3.368185e+10  3.579401e+13   \n",
      "2       1361762.0  2.082003e+14   3.376063e+10  3.528151e+13   \n",
      "3       1321509.0  2.082014e+14   3.375034e+10  3.535661e+13   \n",
      "4       1089009.0  2.082014e+14   3.369980e+10  3.540701e+13   \n",
      "...           ...           ...            ...           ...   \n",
      "149996    81230.0  2.082022e+14   3.365069e+10  3.548311e+13   \n",
      "149997    97970.0  2.082019e+14   3.366345e+10  3.566051e+13   \n",
      "149998    98249.0  2.082017e+14   3.362189e+10  3.572121e+13   \n",
      "149999    97910.0  2.082021e+14   3.361962e+10  8.618620e+13   \n",
      "150000        NaN           NaN            NaN           NaN   \n",
      "\n",
      "           Last Location Name  ...  Youtube UL (Bytes)  Netflix DL (Bytes)  \\\n",
      "0       9.16456699548519E+015  ...        2.501332e+06        8.198936e+06   \n",
      "1                     L77566A  ...        1.911173e+07        1.833841e+07   \n",
      "2                     D42335A  ...        1.469958e+07        1.758779e+07   \n",
      "3                     T21824A  ...        1.514664e+07        1.399465e+07   \n",
      "4                     D88865A  ...        1.896287e+07        1.712458e+07   \n",
      "...                       ...  ...                 ...                 ...   \n",
      "149996                D20434A  ...        1.176343e+07        1.788370e+07   \n",
      "149997                D10223C  ...        8.288284e+06        1.935015e+07   \n",
      "149998                T51102A  ...        1.855903e+06        9.963942e+06   \n",
      "149999                L88342B  ...        8.305402e+06        3.322253e+06   \n",
      "150000                   None  ...        1.100941e+07        1.162685e+07   \n",
      "\n",
      "        Netflix UL (Bytes)  Gaming DL (Bytes)  Gaming UL (Bytes)  \\\n",
      "0             9.656251e+06       2.780823e+08       1.434415e+07   \n",
      "1             1.722713e+07       6.087501e+08       1.170709e+06   \n",
      "2             6.163408e+06       2.295846e+08       3.956300e+05   \n",
      "3             1.097942e+06       7.995382e+08       1.084972e+07   \n",
      "4             4.152180e+05       5.277072e+08       3.529801e+06   \n",
      "...                    ...                ...                ...   \n",
      "149996        1.967816e+07       5.266097e+08       9.197207e+06   \n",
      "149997        2.129315e+07       6.268931e+08       4.735033e+06   \n",
      "149998        5.065760e+06       5.535395e+08       1.339432e+07   \n",
      "149999        1.317259e+07       3.525370e+08       2.529475e+06   \n",
      "150000        1.100175e+07       4.220447e+08       8.288398e+06   \n",
      "\n",
      "        Other DL (Bytes)  Other UL (Bytes)  Total UL (Bytes)  \\\n",
      "0           1.717444e+08      8.814393e+06        36749741.0   \n",
      "1           5.269042e+08      1.505514e+07        53800391.0   \n",
      "2           4.106926e+08      4.215763e+06        27883638.0   \n",
      "3           7.490399e+08      1.279728e+07        43324218.0   \n",
      "4           5.507095e+08      1.391032e+07        38542814.0   \n",
      "...                  ...               ...               ...   \n",
      "149996      3.264510e+06      1.348742e+07        57628851.0   \n",
      "149997      7.121804e+08      2.457758e+06        39135081.0   \n",
      "149998      1.211009e+08      1.131473e+07        34912224.0   \n",
      "149999      8.147131e+08      1.406930e+06        29626096.0   \n",
      "150000      4.211005e+08      8.264799e+06               NaN   \n",
      "\n",
      "        Total DL (Bytes)  HTTP DL (MB)  \n",
      "0            308879636.0           NaN  \n",
      "1            653384965.0           NaN  \n",
      "2            279807335.0           NaN  \n",
      "3            846028530.0           NaN  \n",
      "4            569138589.0           NaN  \n",
      "...                  ...           ...  \n",
      "149996       574175259.0           NaN  \n",
      "149997       666648844.0           NaN  \n",
      "149998       592786405.0           NaN  \n",
      "149999       371895920.0           NaN  \n",
      "150000               NaN           NaN  \n",
      "\n",
      "[150001 rows x 56 columns]\n"
     ]
    }
   ],
   "source": [
    "df['HTTP DL (MB)'] = convert_bytes_to_megabytes(df, 'HTTP DL (Bytes)')\n",
    "\n",
    "print(df)"
   ]
  },
  {
   "cell_type": "code",
   "execution_count": 9,
   "metadata": {},
   "outputs": [],
   "source": [
    "import numpy as np\n",
    "from sklearn.preprocessing import StandardScaler\n",
    "from sklearn.cluster import KMeans\n",
    "import matplotlib.pyplot as plt\n",
    "import seaborn as sns\n",
    "\n"
   ]
  },
  {
   "cell_type": "markdown",
   "metadata": {},
   "source": [
    "Task 3.1"
   ]
  },
  {
   "cell_type": "markdown",
   "metadata": {},
   "source": [
    "Average TCP Retransmission"
   ]
  },
  {
   "cell_type": "code",
   "execution_count": 10,
   "metadata": {},
   "outputs": [],
   "source": [
    "\n",
    "average_tcp_retransmission = df.groupby('MSISDN/Number')[['TCP DL Retrans. Vol (Bytes)', 'TCP UL Retrans. Vol (Bytes)']].mean().sum(axis=1)\n"
   ]
  },
  {
   "cell_type": "markdown",
   "metadata": {},
   "source": [
    "Average RTT"
   ]
  },
  {
   "cell_type": "code",
   "execution_count": 11,
   "metadata": {},
   "outputs": [],
   "source": [
    "average_rtt = df.groupby('MSISDN/Number')[['Avg RTT DL (ms)', 'Avg RTT UL (ms)']].mean().sum(axis=1)\n"
   ]
  },
  {
   "cell_type": "markdown",
   "metadata": {},
   "source": [
    "Handset Type"
   ]
  },
  {
   "cell_type": "code",
   "execution_count": 12,
   "metadata": {},
   "outputs": [],
   "source": [
    "most_frequent_handset_type = df.groupby('MSISDN/Number')['Handset Type'].agg(lambda x: x.value_counts().index[0])\n"
   ]
  },
  {
   "cell_type": "markdown",
   "metadata": {},
   "source": [
    " Average Throughput"
   ]
  },
  {
   "cell_type": "code",
   "execution_count": 13,
   "metadata": {},
   "outputs": [],
   "source": [
    "average_throughput = df.groupby('MSISDN/Number')[['Avg Bearer TP DL (kbps)', 'Avg Bearer TP UL (kbps)']].mean().sum(axis=1)\n"
   ]
  },
  {
   "cell_type": "markdown",
   "metadata": {},
   "source": [
    "Aggregate all information into a DataFrame\n"
   ]
  },
  {
   "cell_type": "code",
   "execution_count": 14,
   "metadata": {},
   "outputs": [
    {
     "name": "stdout",
     "output_type": "stream",
     "text": [
      "   MSISDN/Number  Average TCP Retransmission  Average RTT  \\\n",
      "0   3.360100e+10                         0.0         46.0   \n",
      "1   3.360100e+10                         0.0         31.0   \n",
      "2   3.360100e+10                         0.0          0.0   \n",
      "3   3.360101e+10                      1066.0         84.0   \n",
      "4   3.360101e+10                   9370832.0         59.5   \n",
      "\n",
      "                     Handset Type  Average Throughput  \n",
      "0  Huawei P20 Lite Huawei Nova 3E                76.0  \n",
      "1          Apple iPhone 7 (A1778)                99.0  \n",
      "2                       undefined                97.0  \n",
      "3         Apple iPhone 5S (A1457)               248.0  \n",
      "4         Apple iPhone Se (A1723)             28422.0  \n"
     ]
    }
   ],
   "source": [
    "customer_engagement_metrics = pd.DataFrame({\n",
    "    'MSISDN/Number': average_tcp_retransmission.index,\n",
    "    'Average TCP Retransmission': average_tcp_retransmission.values,\n",
    "    'Average RTT': average_rtt.values,\n",
    "    'Handset Type': most_frequent_handset_type.values,\n",
    "    'Average Throughput': average_throughput.values\n",
    "})\n",
    "\n",
    "# Display the aggregated information\n",
    "print(customer_engagement_metrics.head())"
   ]
  },
  {
   "cell_type": "markdown",
   "metadata": {},
   "source": [
    "Task 3.2"
   ]
  },
  {
   "cell_type": "markdown",
   "metadata": {},
   "source": [
    "Top 10 TCP values:"
   ]
  },
  {
   "cell_type": "code",
   "execution_count": 26,
   "metadata": {},
   "outputs": [
    {
     "name": "stdout",
     "output_type": "stream",
     "text": [
      "Top 10 TCP values:\n",
      "TCP DL Retrans. Vol (Bytes)\n",
      "1330.0    433\n",
      "2660.0    219\n",
      "38.0      200\n",
      "92.0      192\n",
      "1318.0    156\n",
      "543.0     133\n",
      "3990.0    114\n",
      "76.0      108\n",
      "5320.0    102\n",
      "1288.0     93\n",
      "Name: count, dtype: int64\n"
     ]
    }
   ],
   "source": [
    "top_tcp = df['TCP DL Retrans. Vol (Bytes)'].value_counts().nlargest(10)\n",
    "print(\"Top 10 TCP values:\")\n",
    "print(top_tcp)"
   ]
  },
  {
   "cell_type": "markdown",
   "metadata": {},
   "source": [
    "Bottom 10 TCP values"
   ]
  },
  {
   "cell_type": "code",
   "execution_count": 29,
   "metadata": {},
   "outputs": [
    {
     "name": "stdout",
     "output_type": "stream",
     "text": [
      "\n",
      "Bottom 10 TCP values:\n",
      "TCP DL Retrans. Vol (Bytes)\n",
      "18968254.0    1\n",
      "11307841.0    1\n",
      "599416.0      1\n",
      "3483782.0     1\n",
      "808697.0      1\n",
      "2440307.0     1\n",
      "5598958.0     1\n",
      "2281.0        1\n",
      "290615.0      1\n",
      "2638453.0     1\n",
      "Name: count, dtype: int64\n"
     ]
    }
   ],
   "source": [
    "bottom_tcp = df['TCP DL Retrans. Vol (Bytes)'].value_counts().nsmallest(10)\n",
    "print(\"\\nBottom 10 TCP values:\")\n",
    "print(bottom_tcp)"
   ]
  },
  {
   "cell_type": "markdown",
   "metadata": {},
   "source": [
    "Most frequent TCP value"
   ]
  },
  {
   "cell_type": "code",
   "execution_count": 44,
   "metadata": {},
   "outputs": [
    {
     "name": "stdout",
     "output_type": "stream",
     "text": [
      "\n",
      "Most frequent TCP value: 1330.0\n"
     ]
    }
   ],
   "source": [
    "most_freq_tcp = df['TCP DL Retrans. Vol (Bytes)'].mode().iloc[0]\n",
    "print(\"\\nMost frequent TCP value:\", most_freq_tcp)"
   ]
  },
  {
   "cell_type": "markdown",
   "metadata": {},
   "source": [
    "Top 10 RTT values"
   ]
  },
  {
   "cell_type": "code",
   "execution_count": 49,
   "metadata": {},
   "outputs": [
    {
     "name": "stdout",
     "output_type": "stream",
     "text": [
      "top 10 RRT Values\n",
      " Avg RTT DL (ms)\n",
      "28.0    3553\n",
      "27.0    3380\n",
      "34.0    3296\n",
      "35.0    2892\n",
      "37.0    2718\n",
      "36.0    2645\n",
      "38.0    2547\n",
      "29.0    2498\n",
      "26.0    2488\n",
      "33.0    2430\n",
      "Name: count, dtype: int64\n"
     ]
    }
   ],
   "source": [
    "top_rtt = df['Avg RTT DL (ms)'].value_counts().nlargest(10)\n",
    "print(\"top 10 RRT Values\\n\",top_rtt)"
   ]
  },
  {
   "cell_type": "markdown",
   "metadata": {},
   "source": [
    "Bottom 10 RTT values"
   ]
  },
  {
   "cell_type": "code",
   "execution_count": 51,
   "metadata": {},
   "outputs": [
    {
     "name": "stdout",
     "output_type": "stream",
     "text": [
      "Bottom 10 RRT Values\n",
      " Avg RTT DL (ms)\n",
      "4274.0    1\n",
      "2743.0    1\n",
      "686.0     1\n",
      "526.0     1\n",
      "1512.0    1\n",
      "2930.0    1\n",
      "1959.0    1\n",
      "2559.0    1\n",
      "1553.0    1\n",
      "3774.0    1\n",
      "Name: count, dtype: int64\n"
     ]
    }
   ],
   "source": [
    "bottom_rtt = df['Avg RTT DL (ms)'].value_counts().nsmallest(10)\n",
    "print(\"Bottom 10 RRT Values\\n\",bottom_rtt)"
   ]
  },
  {
   "cell_type": "markdown",
   "metadata": {},
   "source": [
    "Most frequent RTT value"
   ]
  },
  {
   "cell_type": "code",
   "execution_count": 57,
   "metadata": {},
   "outputs": [
    {
     "name": "stdout",
     "output_type": "stream",
     "text": [
      "Most frequent RTT value: 28.0\n"
     ]
    }
   ],
   "source": [
    "most_freq_rtt = df['Avg RTT DL (ms)'].mode().iloc[0]\n",
    "print(\"Most frequent RTT value:\",most_freq_rtt)\n"
   ]
  },
  {
   "cell_type": "markdown",
   "metadata": {},
   "source": [
    "Top 10 Throughput values"
   ]
  },
  {
   "cell_type": "code",
   "execution_count": 60,
   "metadata": {},
   "outputs": [
    {
     "name": "stdout",
     "output_type": "stream",
     "text": [
      "Top 10 Throughput values\n",
      ": Avg Bearer TP DL (kbps)\n",
      "23.0    7324\n",
      "43.0    4352\n",
      "44.0    4186\n",
      "6.0     3983\n",
      "22.0    2867\n",
      "48.0    2778\n",
      "63.0    2757\n",
      "42.0    2689\n",
      "45.0    2644\n",
      "47.0    2263\n",
      "Name: count, dtype: int64\n"
     ]
    }
   ],
   "source": [
    "top_throughput = df['Avg Bearer TP DL (kbps)'].value_counts().nlargest(10)\n",
    "print(\"Top 10 Throughput values\\n:\",top_throughput)"
   ]
  },
  {
   "cell_type": "markdown",
   "metadata": {},
   "source": [
    "Bottom 10 Throughput"
   ]
  },
  {
   "cell_type": "code",
   "execution_count": 63,
   "metadata": {},
   "outputs": [
    {
     "name": "stdout",
     "output_type": "stream",
     "text": [
      "Bottom 10 Throughput:\n",
      " Avg Bearer TP DL (kbps)\n",
      "63420.0     1\n",
      "28305.0     1\n",
      "89619.0     1\n",
      "61776.0     1\n",
      "21029.0     1\n",
      "46396.0     1\n",
      "64866.0     1\n",
      "13724.0     1\n",
      "65345.0     1\n",
      "186737.0    1\n",
      "Name: count, dtype: int64\n"
     ]
    }
   ],
   "source": [
    "bottom_throughput = df['Avg Bearer TP DL (kbps)'].value_counts().nsmallest(10)\n",
    "print(\"Bottom 10 Throughput:\\n\",bottom_throughput)"
   ]
  },
  {
   "cell_type": "markdown",
   "metadata": {},
   "source": [
    "Most frequent Throughput value"
   ]
  },
  {
   "cell_type": "code",
   "execution_count": 69,
   "metadata": {},
   "outputs": [
    {
     "name": "stdout",
     "output_type": "stream",
     "text": [
      "Most frequent Throughput value: 23.0\n"
     ]
    }
   ],
   "source": [
    "most_freq_throughput = df['Avg Bearer TP DL (kbps)'].mode().iloc[0]\n",
    "print(\"Most frequent Throughput value:\",most_freq_throughput)"
   ]
  },
  {
   "cell_type": "markdown",
   "metadata": {},
   "source": [
    "Distribution of Throughput per Handset Type"
   ]
  },
  {
   "cell_type": "code",
   "execution_count": 73,
   "metadata": {},
   "outputs": [
    {
     "name": "stdout",
     "output_type": "stream",
     "text": [
      "Distribution of average throughput per handset type:\n",
      "Handset Type\n",
      "A-Link Telecom I. Cubot A5                                                             23184.000000\n",
      "A-Link Telecom I. Cubot Note Plus                                                       6527.000000\n",
      "A-Link Telecom I. Cubot Note S                                                          8515.000000\n",
      "A-Link Telecom I. Cubot Nova                                                           55667.000000\n",
      "A-Link Telecom I. Cubot Power                                                          69126.000000\n",
      "                                                                                           ...     \n",
      "Zte Zte Blade C2 Smartphone Android By Sfr Startrail 4 Zte Blade Flex T809 Zte T809       44.500000\n",
      "Zyxel Communicat. Lte7460                                                              39741.000000\n",
      "Zyxel Communicat. Sbg3600                                                              82818.000000\n",
      "Zyxel Communicat. Zyxel Wah7706                                                         1263.000000\n",
      "undefined                                                                               9185.901302\n",
      "Name: Avg Bearer TP DL (kbps), Length: 1396, dtype: float64\n"
     ]
    }
   ],
   "source": [
    "average_throughput_per_handset = df.groupby('Handset Type')['Avg Bearer TP DL (kbps)'].mean()\n",
    "print(\"Distribution of average throughput per handset type:\")\n",
    "print(average_throughput_per_handset)"
   ]
  },
  {
   "cell_type": "markdown",
   "metadata": {},
   "source": [
    "The average TCP retransmission view per handset type"
   ]
  },
  {
   "cell_type": "code",
   "execution_count": 74,
   "metadata": {},
   "outputs": [
    {
     "name": "stdout",
     "output_type": "stream",
     "text": [
      "\n",
      "Average TCP retransmission per handset type:\n",
      "Handset Type\n",
      "A-Link Telecom I. Cubot A5                                                             0.000000e+00\n",
      "A-Link Telecom I. Cubot Note Plus                                                      6.162130e+05\n",
      "A-Link Telecom I. Cubot Note S                                                         4.141173e+07\n",
      "A-Link Telecom I. Cubot Nova                                                           1.371700e+05\n",
      "A-Link Telecom I. Cubot Power                                                          8.041000e+03\n",
      "                                                                                           ...     \n",
      "Zte Zte Blade C2 Smartphone Android By Sfr Startrail 4 Zte Blade Flex T809 Zte T809    2.660000e+03\n",
      "Zyxel Communicat. Lte7460                                                              4.127655e+07\n",
      "Zyxel Communicat. Sbg3600                                                              5.348694e+07\n",
      "Zyxel Communicat. Zyxel Wah7706                                                        1.160000e+02\n",
      "undefined                                                                              3.399392e+06\n",
      "Length: 1396, dtype: float64\n"
     ]
    }
   ],
   "source": [
    "average_tcp_retransmission_per_handset = df.groupby('Handset Type')[['TCP DL Retrans. Vol (Bytes)', 'TCP UL Retrans. Vol (Bytes)']].mean().sum(axis=1)\n",
    "print(\"\\nAverage TCP retransmission per handset type:\")\n",
    "print(average_tcp_retransmission_per_handset)"
   ]
  },
  {
   "cell_type": "markdown",
   "metadata": {},
   "source": [
    "Task 3.4"
   ]
  },
  {
   "cell_type": "markdown",
   "metadata": {},
   "source": [
    "Using the experience metrics above"
   ]
  },
  {
   "cell_type": "code",
   "execution_count": 87,
   "metadata": {},
   "outputs": [
    {
     "name": "stdout",
     "output_type": "stream",
     "text": [
      "   MSISDN/Number  Cluster\n",
      "0   3.360100e+10        1\n",
      "1   3.360100e+10        1\n",
      "2   3.360100e+10        1\n",
      "3   3.360101e+10        1\n",
      "4   3.360101e+10        1\n"
     ]
    },
    {
     "data": {
      "image/png": "[encoded data removed]",
      "text/plain": [
       "<Figure size 800x600 with 1 Axes>"
      ]
     },
     "metadata": {},
     "output_type": "display_data"
    },
    {
     "name": "stdout",
     "output_type": "stream",
     "text": [
      "  Cluster Average TCP Retransmission                              \\\n",
      "                                 min           max          mean   \n",
      "0       0               1.110387e+09  4.301477e+09  2.200928e+09   \n",
      "1       1               0.000000e+00  1.010524e+09  1.355228e+06   \n",
      "2       2               0.000000e+00  1.101753e+09  1.920380e+07   \n",
      "\n",
      "                Average RTT                                     \\\n",
      "            sum         min      max        mean           sum   \n",
      "0  3.719569e+11        52.0    572.0  143.442406  2.424177e+04   \n",
      "1  1.197344e+11         0.0  96924.0  114.302041  1.009859e+07   \n",
      "2  3.521402e+11         0.0   8296.5  102.789338  1.884848e+06   \n",
      "\n",
      "  Average Throughput                                        \n",
      "                 min       max          mean           sum  \n",
      "0            15990.0  181839.0  71432.373077  1.207207e+07  \n",
      "1                0.0   29906.0   4332.711277  3.827950e+08  \n",
      "2            16482.0  283931.0  55112.434820  1.010597e+09  \n"
     ]
    }
   ],
   "source": [
    "# select the relevant columns\n",
    "relevant_columns = customer_engagement_metrics[['Average TCP Retransmission', 'Average RTT', 'Average Throughput']]\n",
    "\n",
    "scaler = StandardScaler()\n",
    "agg_data_scaled = scaler.fit_transform(relevant_columns)\n",
    "\n",
    "\n",
    "\n",
    "# perform a k-means clustering (where k = 3)\n",
    "kmeans = KMeans(n_clusters=3, random_state=42)\n",
    "customer_engagement_metrics['Cluster'] = kmeans.fit_predict(agg_data_scaled)\n",
    "\n",
    "# Display cluster assignments\n",
    "print(customer_engagement_metrics[['MSISDN/Number', 'Cluster']].head())\n",
    "\n",
    "# Elbow Method to determine the optimal value of k\n",
    "inertia = []\n",
    "for k in range(1, 10):\n",
    "    kmeans = KMeans(n_clusters=k, random_state=42)\n",
    "    kmeans.fit(agg_data_scaled)\n",
    "    inertia.append(kmeans.inertia_)\n",
    "\n",
    "# Plot the elbow curve\n",
    "plt.figure(figsize=(8, 6))\n",
    "plt.plot(range(1, 10), inertia, marker='o')\n",
    "plt.title('Elbow Method for Optimal k')\n",
    "plt.xlabel('Number of clusters')\n",
    "plt.ylabel('Inertia')\n",
    "plt.show()\n",
    "\n",
    "# Analyzing cluster \n",
    "cluster_summary = customer_engagement_metrics.groupby('Cluster').agg({\n",
    "    'Average TCP Retransmission': ['min', 'max', 'mean', 'sum'],\n",
    "    'Average RTT': ['min', 'max', 'mean', 'sum'],\n",
    "    'Average Throughput': ['min', 'max', 'mean', 'sum']\n",
    "}).reset_index()\n",
    "\n",
    "print(cluster_summary)\n"
   ]
  }
 ],
 "metadata": {
  "kernelspec": {
   "display_name": "venv_telecom",
   "language": "python",
   "name": "python3"
  },
  "language_info": {
   "codemirror_mode": {
    "name": "ipython",
    "version": 3
   },
   "file_extension": ".py",
   "mimetype": "text/x-python",
   "name": "python",
   "nbconvert_exporter": "python",
   "pygments_lexer": "ipython3",
   "version": "3.10.6"
  }
 },
 "nbformat": 4,
 "nbformat_minor": 2
}
