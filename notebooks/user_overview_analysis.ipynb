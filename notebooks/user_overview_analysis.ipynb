{
 "cells": [
  {
   "cell_type": "code",
   "execution_count": 1,
   "metadata": {},
   "outputs": [],
   "source": [
    "import sys\n",
    "import os"
   ]
  },
  {
   "cell_type": "code",
   "execution_count": 2,
   "metadata": {},
   "outputs": [],
   "source": [
    "project_path = 'c:/Users/Firew Ayele/Desktop/kifiya/telecom_analysis'\n",
    "sys.path.append(project_path)"
   ]
  },
  {
   "cell_type": "markdown",
   "metadata": {},
   "source": [
    "Connect to the PostgreSQL database"
   ]
  },
  {
   "cell_type": "code",
   "execution_count": 4,
   "metadata": {},
   "outputs": [],
   "source": [
    "import pandas as pd\n",
    "from Database.db_connection import fetch_data_from_postgres"
   ]
  },
  {
   "cell_type": "code",
   "execution_count": 5,
   "metadata": {},
   "outputs": [
    {
     "name": "stdout",
     "output_type": "stream",
     "text": [
      "           Bearer Id            Start  Start ms              End  End ms  \\\n",
      "0       1.311448e+19   4/4/2019 12:01     770.0  4/25/2019 14:35   662.0   \n",
      "1       1.311448e+19   4/9/2019 13:04     235.0   4/25/2019 8:15   606.0   \n",
      "2       1.311448e+19   4/9/2019 17:42       1.0  4/25/2019 11:58   652.0   \n",
      "3       1.311448e+19   4/10/2019 0:31     486.0   4/25/2019 7:36   171.0   \n",
      "4       1.311448e+19  4/12/2019 20:10     565.0  4/25/2019 10:40   954.0   \n",
      "...              ...              ...       ...              ...     ...   \n",
      "149996  7.277826e+18   4/29/2019 7:28     451.0   4/30/2019 6:02   214.0   \n",
      "149997  7.349883e+18   4/29/2019 7:28     483.0  4/30/2019 10:41   187.0   \n",
      "149998  1.311448e+19   4/29/2019 7:28     283.0  4/30/2019 10:46   810.0   \n",
      "149999  1.311448e+19   4/29/2019 7:28     696.0  4/30/2019 10:40   327.0   \n",
      "150000           NaN             None       NaN             None     NaN   \n",
      "\n",
      "        Dur. (ms)          IMSI  MSISDN/Number          IMEI  \\\n",
      "0       1823652.0  2.082014e+14   3.366496e+10  3.552121e+13   \n",
      "1       1365104.0  2.082019e+14   3.368185e+10  3.579401e+13   \n",
      "2       1361762.0  2.082003e+14   3.376063e+10  3.528151e+13   \n",
      "3       1321509.0  2.082014e+14   3.375034e+10  3.535661e+13   \n",
      "4       1089009.0  2.082014e+14   3.369980e+10  3.540701e+13   \n",
      "...           ...           ...            ...           ...   \n",
      "149996    81230.0  2.082022e+14   3.365069e+10  3.548311e+13   \n",
      "149997    97970.0  2.082019e+14   3.366345e+10  3.566051e+13   \n",
      "149998    98249.0  2.082017e+14   3.362189e+10  3.572121e+13   \n",
      "149999    97910.0  2.082021e+14   3.361962e+10  8.618620e+13   \n",
      "150000        NaN           NaN            NaN           NaN   \n",
      "\n",
      "           Last Location Name  ...  Youtube DL (Bytes)  Youtube UL (Bytes)  \\\n",
      "0       9.16456699548519E+015  ...        1.585461e+07        2.501332e+06   \n",
      "1                     L77566A  ...        2.024740e+07        1.911173e+07   \n",
      "2                     D42335A  ...        1.972566e+07        1.469958e+07   \n",
      "3                     T21824A  ...        2.138812e+07        1.514664e+07   \n",
      "4                     D88865A  ...        1.525938e+07        1.896287e+07   \n",
      "...                       ...  ...                 ...                 ...   \n",
      "149996                D20434A  ...        1.619167e+07        1.176343e+07   \n",
      "149997                D10223C  ...        1.387723e+07        8.288284e+06   \n",
      "149998                T51102A  ...        2.266051e+07        1.855903e+06   \n",
      "149999                L88342B  ...        8.817106e+06        8.305402e+06   \n",
      "150000                   None  ...        1.163407e+07        1.100941e+07   \n",
      "\n",
      "        Netflix DL (Bytes)  Netflix UL (Bytes)  Gaming DL (Bytes)  \\\n",
      "0             8.198936e+06        9.656251e+06       2.780823e+08   \n",
      "1             1.833841e+07        1.722713e+07       6.087501e+08   \n",
      "2             1.758779e+07        6.163408e+06       2.295846e+08   \n",
      "3             1.399465e+07        1.097942e+06       7.995382e+08   \n",
      "4             1.712458e+07        4.152180e+05       5.277072e+08   \n",
      "...                    ...                 ...                ...   \n",
      "149996        1.788370e+07        1.967816e+07       5.266097e+08   \n",
      "149997        1.935015e+07        2.129315e+07       6.268931e+08   \n",
      "149998        9.963942e+06        5.065760e+06       5.535395e+08   \n",
      "149999        3.322253e+06        1.317259e+07       3.525370e+08   \n",
      "150000        1.162685e+07        1.100175e+07       4.220447e+08   \n",
      "\n",
      "        Gaming UL (Bytes)  Other DL (Bytes)  Other UL (Bytes)  \\\n",
      "0            1.434415e+07      1.717444e+08      8.814393e+06   \n",
      "1            1.170709e+06      5.269042e+08      1.505514e+07   \n",
      "2            3.956300e+05      4.106926e+08      4.215763e+06   \n",
      "3            1.084972e+07      7.490399e+08      1.279728e+07   \n",
      "4            3.529801e+06      5.507095e+08      1.391032e+07   \n",
      "...                   ...               ...               ...   \n",
      "149996       9.197207e+06      3.264510e+06      1.348742e+07   \n",
      "149997       4.735033e+06      7.121804e+08      2.457758e+06   \n",
      "149998       1.339432e+07      1.211009e+08      1.131473e+07   \n",
      "149999       2.529475e+06      8.147131e+08      1.406930e+06   \n",
      "150000       8.288398e+06      4.211005e+08      8.264799e+06   \n",
      "\n",
      "        Total UL (Bytes)  Total DL (Bytes)  \n",
      "0             36749741.0       308879636.0  \n",
      "1             53800391.0       653384965.0  \n",
      "2             27883638.0       279807335.0  \n",
      "3             43324218.0       846028530.0  \n",
      "4             38542814.0       569138589.0  \n",
      "...                  ...               ...  \n",
      "149996        57628851.0       574175259.0  \n",
      "149997        39135081.0       666648844.0  \n",
      "149998        34912224.0       592786405.0  \n",
      "149999        29626096.0       371895920.0  \n",
      "150000               NaN               NaN  \n",
      "\n",
      "[150001 rows x 55 columns]\n"
     ]
    }
   ],
   "source": [
    "df =fetch_data_from_postgres()\n",
    "print(df)"
   ]
  },
  {
   "cell_type": "code",
   "execution_count": 6,
   "metadata": {},
   "outputs": [],
   "source": [
    "from src.utils import missing_values_table, convert_bytes_to_megabytes\n"
   ]
  },
  {
   "cell_type": "markdown",
   "metadata": {},
   "source": [
    " Perform initial data analysis"
   ]
  },
  {
   "cell_type": "code",
   "execution_count": 7,
   "metadata": {},
   "outputs": [
    {
     "name": "stdout",
     "output_type": "stream",
     "text": [
      "Your selected dataframe has 55 columns.\n",
      "There are 41 columns that have missing values.\n",
      "Missing Values in df:\n",
      "                                          Missing Values  % of Total Values  \\\n",
      "Nb of sec with 37500B < Vol UL                    130254               86.8   \n",
      "Nb of sec with 6250B < Vol UL < 37500B            111843               74.6   \n",
      "Nb of sec with 125000B < Vol DL                    97538               65.0   \n",
      "TCP UL Retrans. Vol (Bytes)                        96649               64.4   \n",
      "Nb of sec with 31250B < Vol DL < 125000B           93586               62.4   \n",
      "Nb of sec with 1250B < Vol UL < 6250B              92894               61.9   \n",
      "Nb of sec with 6250B < Vol DL < 31250B             88317               58.9   \n",
      "TCP DL Retrans. Vol (Bytes)                        88146               58.8   \n",
      "HTTP UL (Bytes)                                    81810               54.5   \n",
      "HTTP DL (Bytes)                                    81474               54.3   \n",
      "Avg RTT DL (ms)                                    27829               18.6   \n",
      "Avg RTT UL (ms)                                    27812               18.5   \n",
      "Last Location Name                                  1153                0.8   \n",
      "MSISDN/Number                                       1066                0.7   \n",
      "Bearer Id                                            991                0.7   \n",
      "Nb of sec with Vol UL < 1250B                        793                0.5   \n",
      "UL TP < 10 Kbps (%)                                  792                0.5   \n",
      "50 Kbps < UL TP < 300 Kbps (%)                       792                0.5   \n",
      "UL TP > 300 Kbps (%)                                 792                0.5   \n",
      "10 Kbps < UL TP < 50 Kbps (%)                        792                0.5   \n",
      "Nb of sec with Vol DL < 6250B                        755                0.5   \n",
      "DL TP > 1 Mbps (%)                                   754                0.5   \n",
      "50 Kbps < DL TP < 250 Kbps (%)                       754                0.5   \n",
      "250 Kbps < DL TP < 1 Mbps (%)                        754                0.5   \n",
      "DL TP < 50 Kbps (%)                                  754                0.5   \n",
      "Handset Manufacturer                                 572                0.4   \n",
      "Handset Type                                         572                0.4   \n",
      "IMEI                                                 572                0.4   \n",
      "IMSI                                                 570                0.4   \n",
      "Start                                                  1                0.0   \n",
      "Start ms                                               1                0.0   \n",
      "End                                                    1                0.0   \n",
      "End ms                                                 1                0.0   \n",
      "Dur. (ms)                                              1                0.0   \n",
      "Avg Bearer TP UL (kbps)                                1                0.0   \n",
      "Avg Bearer TP DL (kbps)                                1                0.0   \n",
      "Dur. (ms).1                                            1                0.0   \n",
      "Activity Duration UL (ms)                              1                0.0   \n",
      "Activity Duration DL (ms)                              1                0.0   \n",
      "Total UL (Bytes)                                       1                0.0   \n",
      "Total DL (Bytes)                                       1                0.0   \n",
      "\n",
      "                                            Dtype  \n",
      "Nb of sec with 37500B < Vol UL            float64  \n",
      "Nb of sec with 6250B < Vol UL < 37500B    float64  \n",
      "Nb of sec with 125000B < Vol DL           float64  \n",
      "TCP UL Retrans. Vol (Bytes)               float64  \n",
      "Nb of sec with 31250B < Vol DL < 125000B  float64  \n",
      "Nb of sec with 1250B < Vol UL < 6250B     float64  \n",
      "Nb of sec with 6250B < Vol DL < 31250B    float64  \n",
      "TCP DL Retrans. Vol (Bytes)               float64  \n",
      "HTTP UL (Bytes)                           float64  \n",
      "HTTP DL (Bytes)                           float64  \n",
      "Avg RTT DL (ms)                           float64  \n",
      "Avg RTT UL (ms)                           float64  \n",
      "Last Location Name                         object  \n",
      "MSISDN/Number                             float64  \n",
      "Bearer Id                                 float64  \n",
      "Nb of sec with Vol UL < 1250B             float64  \n",
      "UL TP < 10 Kbps (%)                       float64  \n",
      "50 Kbps < UL TP < 300 Kbps (%)            float64  \n",
      "UL TP > 300 Kbps (%)                      float64  \n",
      "10 Kbps < UL TP < 50 Kbps (%)             float64  \n",
      "Nb of sec with Vol DL < 6250B             float64  \n",
      "DL TP > 1 Mbps (%)                        float64  \n",
      "50 Kbps < DL TP < 250 Kbps (%)            float64  \n",
      "250 Kbps < DL TP < 1 Mbps (%)             float64  \n",
      "DL TP < 50 Kbps (%)                       float64  \n",
      "Handset Manufacturer                       object  \n",
      "Handset Type                               object  \n",
      "IMEI                                      float64  \n",
      "IMSI                                      float64  \n",
      "Start                                      object  \n",
      "Start ms                                  float64  \n",
      "End                                        object  \n",
      "End ms                                    float64  \n",
      "Dur. (ms)                                 float64  \n",
      "Avg Bearer TP UL (kbps)                   float64  \n",
      "Avg Bearer TP DL (kbps)                   float64  \n",
      "Dur. (ms).1                               float64  \n",
      "Activity Duration UL (ms)                 float64  \n",
      "Activity Duration DL (ms)                 float64  \n",
      "Total UL (Bytes)                          float64  \n",
      "Total DL (Bytes)                          float64  \n"
     ]
    }
   ],
   "source": [
    "\n",
    "missing_values_df = missing_values_table(df)\n",
    "print(\"Missing Values in df:\")\n",
    "print(missing_values_df)"
   ]
  },
  {
   "cell_type": "code",
   "execution_count": 8,
   "metadata": {},
   "outputs": [
    {
     "name": "stdout",
     "output_type": "stream",
     "text": [
      "      Bearer Id            Start  Start ms              End  End ms  \\\n",
      "0  1.311448e+19   4/4/2019 12:01     770.0  4/25/2019 14:35   662.0   \n",
      "1  1.311448e+19   4/9/2019 13:04     235.0   4/25/2019 8:15   606.0   \n",
      "2  1.311448e+19   4/9/2019 17:42       1.0  4/25/2019 11:58   652.0   \n",
      "3  1.311448e+19   4/10/2019 0:31     486.0   4/25/2019 7:36   171.0   \n",
      "4  1.311448e+19  4/12/2019 20:10     565.0  4/25/2019 10:40   954.0   \n",
      "\n",
      "   Dur. (ms)          IMSI  MSISDN/Number          IMEI  \\\n",
      "0  1823652.0  2.082014e+14   3.366496e+10  3.552121e+13   \n",
      "1  1365104.0  2.082019e+14   3.368185e+10  3.579401e+13   \n",
      "2  1361762.0  2.082003e+14   3.376063e+10  3.528151e+13   \n",
      "3  1321509.0  2.082014e+14   3.375034e+10  3.535661e+13   \n",
      "4  1089009.0  2.082014e+14   3.369980e+10  3.540701e+13   \n",
      "\n",
      "      Last Location Name  ...  Youtube UL (Bytes)  Netflix DL (Bytes)  \\\n",
      "0  9.16456699548519E+015  ...           2501332.0           8198936.0   \n",
      "1                L77566A  ...          19111729.0          18338413.0   \n",
      "2                D42335A  ...          14699576.0          17587794.0   \n",
      "3                T21824A  ...          15146643.0          13994646.0   \n",
      "4                D88865A  ...          18962873.0          17124581.0   \n",
      "\n",
      "   Netflix UL (Bytes)  Gaming DL (Bytes)  Gaming UL (Bytes)  Other DL (Bytes)  \\\n",
      "0           9656251.0        278082303.0         14344150.0       171744450.0   \n",
      "1          17227132.0        608750074.0          1170709.0       526904238.0   \n",
      "2           6163408.0        229584621.0           395630.0       410692588.0   \n",
      "3           1097942.0        799538153.0         10849722.0       749039933.0   \n",
      "4            415218.0        527707248.0          3529801.0       550709500.0   \n",
      "\n",
      "   Other UL (Bytes)  Total UL (Bytes)  Total DL (Bytes)  HTTP DL (MB)  \n",
      "0         8814393.0        36749741.0       308879636.0           NaN  \n",
      "1        15055145.0        53800391.0       653384965.0           NaN  \n",
      "2         4215763.0        27883638.0       279807335.0           NaN  \n",
      "3        12797283.0        43324218.0       846028530.0           NaN  \n",
      "4        13910322.0        38542814.0       569138589.0           NaN  \n",
      "\n",
      "[5 rows x 56 columns]\n"
     ]
    }
   ],
   "source": [
    "df['HTTP DL (MB)'] = convert_bytes_to_megabytes(df, 'HTTP DL (Bytes)')\n",
    "print(df.head())"
   ]
  },
  {
   "cell_type": "markdown",
   "metadata": {},
   "source": [
    "sub-tasks"
   ]
  },
  {
   "cell_type": "code",
   "execution_count": 10,
   "metadata": {},
   "outputs": [
    {
     "name": "stdout",
     "output_type": "stream",
     "text": [
      "Index(['Bearer Id', 'Start', 'Start ms', 'End', 'End ms', 'Dur. (ms)', 'IMSI',\n",
      "       'MSISDN/Number', 'IMEI', 'Last Location Name', 'Avg RTT DL (ms)',\n",
      "       'Avg RTT UL (ms)', 'Avg Bearer TP DL (kbps)', 'Avg Bearer TP UL (kbps)',\n",
      "       'TCP DL Retrans. Vol (Bytes)', 'TCP UL Retrans. Vol (Bytes)',\n",
      "       'DL TP < 50 Kbps (%)', '50 Kbps < DL TP < 250 Kbps (%)',\n",
      "       '250 Kbps < DL TP < 1 Mbps (%)', 'DL TP > 1 Mbps (%)',\n",
      "       'UL TP < 10 Kbps (%)', '10 Kbps < UL TP < 50 Kbps (%)',\n",
      "       '50 Kbps < UL TP < 300 Kbps (%)', 'UL TP > 300 Kbps (%)',\n",
      "       'HTTP DL (Bytes)', 'HTTP UL (Bytes)', 'Activity Duration DL (ms)',\n",
      "       'Activity Duration UL (ms)', 'Dur. (ms).1', 'Handset Manufacturer',\n",
      "       'Handset Type', 'Nb of sec with 125000B < Vol DL',\n",
      "       'Nb of sec with 1250B < Vol UL < 6250B',\n",
      "       'Nb of sec with 31250B < Vol DL < 125000B',\n",
      "       'Nb of sec with 37500B < Vol UL',\n",
      "       'Nb of sec with 6250B < Vol DL < 31250B',\n",
      "       'Nb of sec with 6250B < Vol UL < 37500B',\n",
      "       'Nb of sec with Vol DL < 6250B', 'Nb of sec with Vol UL < 1250B',\n",
      "       'Social Media DL (Bytes)', 'Social Media UL (Bytes)',\n",
      "       'Google DL (Bytes)', 'Google UL (Bytes)', 'Email DL (Bytes)',\n",
      "       'Email UL (Bytes)', 'Youtube DL (Bytes)', 'Youtube UL (Bytes)',\n",
      "       'Netflix DL (Bytes)', 'Netflix UL (Bytes)', 'Gaming DL (Bytes)',\n",
      "       'Gaming UL (Bytes)', 'Other DL (Bytes)', 'Other UL (Bytes)',\n",
      "       'Total UL (Bytes)', 'Total DL (Bytes)', 'HTTP DL (MB)'],\n",
      "      dtype='object')\n"
     ]
    }
   ],
   "source": [
    "# Inspect column names\n",
    "print(df.columns)"
   ]
  },
  {
   "cell_type": "markdown",
   "metadata": {},
   "source": [
    "Identify the top 10 handsets"
   ]
  },
  {
   "cell_type": "code",
   "execution_count": 11,
   "metadata": {},
   "outputs": [
    {
     "name": "stdout",
     "output_type": "stream",
     "text": [
      "Handset Manufacturer\n",
      "Apple                                   59565\n",
      "Samsung                                 40839\n",
      "Huawei                                  34423\n",
      "undefined                                8987\n",
      "Sony Mobile Communications Ab             980\n",
      "Wiko Global Sasu                          747\n",
      "Xiaomi Communications Co Ltd              397\n",
      "Oneplus Technology (Shenzhen) Co Ltd      342\n",
      "Asustek                                   285\n",
      "Lenovo                                    254\n",
      "Name: count, dtype: int64\n"
     ]
    }
   ],
   "source": [
    "# Identify the top 10 handsets\n",
    "top_10_handsets = df['Handset Manufacturer'].value_counts().head(10)\n",
    "print(top_10_handsets)"
   ]
  },
  {
   "cell_type": "markdown",
   "metadata": {},
   "source": [
    "Identify the top 3 manufacturers\n"
   ]
  },
  {
   "cell_type": "code",
   "execution_count": 13,
   "metadata": {},
   "outputs": [
    {
     "name": "stdout",
     "output_type": "stream",
     "text": [
      "Handset Manufacturer\n",
      "Apple      59565\n",
      "Samsung    40839\n",
      "Huawei     34423\n",
      "Name: count, dtype: int64\n"
     ]
    }
   ],
   "source": [
    "top_3_manufacturers = df['Handset Manufacturer'].value_counts().head(3)\n",
    "print(top_3_manufacturers)"
   ]
  },
  {
   "cell_type": "markdown",
   "metadata": {},
   "source": [
    "For each top manufacturer, find the top 5 handsets"
   ]
  },
  {
   "cell_type": "code",
   "execution_count": 16,
   "metadata": {},
   "outputs": [
    {
     "name": "stdout",
     "output_type": "stream",
     "text": [
      "Top 5 handsets for Apple:\n",
      "Handset Type\n",
      "Apple iPhone 6S (A1688)    9419\n",
      "Apple iPhone 6 (A1586)     9023\n",
      "Apple iPhone 7 (A1778)     6326\n",
      "Apple iPhone Se (A1723)    5187\n",
      "Apple iPhone 8 (A1905)     4993\n",
      "Name: count, dtype: int64\n",
      "Top 5 handsets for Samsung:\n",
      "Handset Type\n",
      "Samsung Galaxy S8 (Sm-G950F)    4520\n",
      "Samsung Galaxy A5 Sm-A520F      3724\n",
      "Samsung Galaxy J5 (Sm-J530)     3696\n",
      "Samsung Galaxy J3 (Sm-J330)     3484\n",
      "Samsung Galaxy S7 (Sm-G930X)    3199\n",
      "Name: count, dtype: int64\n",
      "Top 5 handsets for Huawei:\n",
      "Handset Type\n",
      "Huawei B528S-23A                  19752\n",
      "Huawei E5180                       2079\n",
      "Huawei P20 Lite Huawei Nova 3E     2021\n",
      "Huawei P20                         1480\n",
      "Huawei Y6 2018                      997\n",
      "Name: count, dtype: int64\n"
     ]
    }
   ],
   "source": [
    "\n",
    "for manufacturer in top_3_manufacturers.index:\n",
    "    top_5_handsets = df[df['Handset Manufacturer'] == manufacturer]['Handset Type'].value_counts().head(5)\n",
    "    print(f\"Top 5 handsets for {manufacturer}:\")\n",
    "    print(top_5_handsets)"
   ]
  },
  {
   "cell_type": "markdown",
   "metadata": {},
   "source": [
    "plotting top 5 handsets per top 3 handset manufacturer"
   ]
  },
  {
   "cell_type": "code",
   "execution_count": 27,
   "metadata": {},
   "outputs": [
    {
     "data": {
      "image/png": "[encoded data removed]",
      "text/plain": [
       "<Figure size 1800x600 with 3 Axes>"
      ]
     },
     "metadata": {},
     "output_type": "display_data"
    }
   ],
   "source": [
    "import matplotlib.pyplot as plt\n",
    "import seaborn as sns\n",
    "\n",
    "# Identify the top 3 manufacturers\n",
    "top_3_manufacturers = df['Handset Manufacturer'].value_counts().head(3)\n",
    "\n",
    "# Create a bar plot for each manufacturer's top 5 handsets\n",
    "fig, axes = plt.subplots(1, 3, figsize=(18, 6), sharey=True)\n",
    "\n",
    "for i, manufacturer in enumerate(top_3_manufacturers.index):\n",
    "    top_5_handsets = df[df['Handset Manufacturer'] == manufacturer]['Handset Type'].value_counts().head(5)\n",
    "    \n",
    "    sns.barplot(x=top_5_handsets.values, y=top_5_handsets.index, hue=top_5_handsets.index, ax=axes[i], palette=\"viridis\", legend=False)\n",
    "    axes[i].set_title(f'Top 5 Handsets for {manufacturer}')\n",
    "    axes[i].set_xlabel('Count')\n",
    "\n",
    "plt.tight_layout()\n",
    "plt.show()\n"
   ]
  },
  {
   "cell_type": "markdown",
   "metadata": {},
   "source": [
    "Task 1.1"
   ]
  },
  {
   "cell_type": "markdown",
   "metadata": {},
   "source": [
    "Aggregate per user the following information in the column"
   ]
  },
  {
   "cell_type": "markdown",
   "metadata": {},
   "source": [
    "number of xDR sessions"
   ]
  },
  {
   "cell_type": "code",
   "execution_count": 28,
   "metadata": {},
   "outputs": [],
   "source": [
    "# Group the data by user identifier\n",
    "user_grouped = df.groupby('IMSI')\n",
    "\n",
    "# Calculate the number of xDR sessions for each user\n",
    "user_sessions = user_grouped.size().reset_index(name='NumSessions')\n"
   ]
  },
  {
   "cell_type": "markdown",
   "metadata": {},
   "source": [
    "Session duration"
   ]
  },
  {
   "cell_type": "code",
   "execution_count": 29,
   "metadata": {},
   "outputs": [],
   "source": [
    "# Compute the total session duration for each user\n",
    "user_session_duration = user_grouped['Dur. (ms)'].sum().reset_index(name='TotalSessionDuration')\n"
   ]
  },
  {
   "cell_type": "markdown",
   "metadata": {},
   "source": [
    "the total download (DL) and upload (UL) data"
   ]
  },
  {
   "cell_type": "code",
   "execution_count": 32,
   "metadata": {},
   "outputs": [
    {
     "name": "stderr",
     "output_type": "stream",
     "text": [
      "C:\\Users\\Firew Ayele\\AppData\\Local\\Temp\\ipykernel_14880\\2611756029.py:13: FutureWarning: SeriesGroupBy.fillna is deprecated and will be removed in a future version. Use obj.ffill() or obj.bfill() for forward or backward filling instead. If you want to fill with a single value, use Series.fillna instead\n",
      "  user_data_volume[app] = user_grouped[app_dl_col].fillna(0) + user_grouped[app_ul_col].fillna(0)\n",
      "C:\\Users\\Firew Ayele\\AppData\\Local\\Temp\\ipykernel_14880\\2611756029.py:13: FutureWarning: SeriesGroupBy.fillna is deprecated and will be removed in a future version. Use obj.ffill() or obj.bfill() for forward or backward filling instead. If you want to fill with a single value, use Series.fillna instead\n",
      "  user_data_volume[app] = user_grouped[app_dl_col].fillna(0) + user_grouped[app_ul_col].fillna(0)\n",
      "C:\\Users\\Firew Ayele\\AppData\\Local\\Temp\\ipykernel_14880\\2611756029.py:13: FutureWarning: SeriesGroupBy.fillna is deprecated and will be removed in a future version. Use obj.ffill() or obj.bfill() for forward or backward filling instead. If you want to fill with a single value, use Series.fillna instead\n",
      "  user_data_volume[app] = user_grouped[app_dl_col].fillna(0) + user_grouped[app_ul_col].fillna(0)\n",
      "C:\\Users\\Firew Ayele\\AppData\\Local\\Temp\\ipykernel_14880\\2611756029.py:13: FutureWarning: SeriesGroupBy.fillna is deprecated and will be removed in a future version. Use obj.ffill() or obj.bfill() for forward or backward filling instead. If you want to fill with a single value, use Series.fillna instead\n",
      "  user_data_volume[app] = user_grouped[app_dl_col].fillna(0) + user_grouped[app_ul_col].fillna(0)\n",
      "C:\\Users\\Firew Ayele\\AppData\\Local\\Temp\\ipykernel_14880\\2611756029.py:13: FutureWarning: SeriesGroupBy.fillna is deprecated and will be removed in a future version. Use obj.ffill() or obj.bfill() for forward or backward filling instead. If you want to fill with a single value, use Series.fillna instead\n",
      "  user_data_volume[app] = user_grouped[app_dl_col].fillna(0) + user_grouped[app_ul_col].fillna(0)\n",
      "C:\\Users\\Firew Ayele\\AppData\\Local\\Temp\\ipykernel_14880\\2611756029.py:13: FutureWarning: SeriesGroupBy.fillna is deprecated and will be removed in a future version. Use obj.ffill() or obj.bfill() for forward or backward filling instead. If you want to fill with a single value, use Series.fillna instead\n",
      "  user_data_volume[app] = user_grouped[app_dl_col].fillna(0) + user_grouped[app_ul_col].fillna(0)\n",
      "C:\\Users\\Firew Ayele\\AppData\\Local\\Temp\\ipykernel_14880\\2611756029.py:13: FutureWarning: SeriesGroupBy.fillna is deprecated and will be removed in a future version. Use obj.ffill() or obj.bfill() for forward or backward filling instead. If you want to fill with a single value, use Series.fillna instead\n",
      "  user_data_volume[app] = user_grouped[app_dl_col].fillna(0) + user_grouped[app_ul_col].fillna(0)\n"
     ]
    }
   ],
   "source": [
    "# Sum the download (DL) and upload (UL) data for each user\n",
    "user_data_usage = user_grouped[['Total DL (Bytes)', 'Total UL (Bytes)']].sum().reset_index()\n",
    "\n",
    "# Merge the dataframes to get the total data volume for each user\n",
    "user_data_volume = pd.merge(user_session_duration, user_data_usage, on='IMSI')\n",
    "\n",
    "\n",
    "# Calculate the total data volume (in bytes) during each session for each application\n",
    "applications = ['Social Media', 'Google', 'Email', 'Youtube', 'Netflix', 'Gaming', 'Other']\n",
    "for app in applications:\n",
    "    app_dl_col = f'{app} DL (Bytes)'\n",
    "    app_ul_col = f'{app} UL (Bytes)'\n",
    "    user_data_volume[app] = user_grouped[app_dl_col].fillna(0) + user_grouped[app_ul_col].fillna(0)\n"
   ]
  },
  {
   "cell_type": "code",
   "execution_count": null,
   "metadata": {},
   "outputs": [],
   "source": []
  },
  {
   "cell_type": "code",
   "execution_count": null,
   "metadata": {},
   "outputs": [],
   "source": []
  }
 ],
 "metadata": {
  "kernelspec": {
   "display_name": "Python 3",
   "language": "python",
   "name": "python3"
  },
  "language_info": {
   "codemirror_mode": {
    "name": "ipython",
    "version": 3
   },
   "file_extension": ".py",
   "mimetype": "text/x-python",
   "name": "python",
   "nbconvert_exporter": "python",
   "pygments_lexer": "ipython3",
   "version": "3.10.6"
  }
 },
 "nbformat": 4,
 "nbformat_minor": 2
}
